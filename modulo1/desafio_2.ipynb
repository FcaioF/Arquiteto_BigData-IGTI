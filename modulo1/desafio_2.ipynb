{
 "cells": [
  {
   "cell_type": "code",
   "execution_count": 4,
   "metadata": {},
   "outputs": [],
   "source": [
    "#bibliotecas necessarias\n",
    "import pandas as pd\n",
    "import matplotlib.pyplot as plt\n",
    "from sklearn.preprocessing import LabelEncoder\n",
    "from sklearn.cluster import KMeans\n",
    "import plotly.express as px\n",
    "import plotly.offline as py\n",
    "import plotly.graph_objects as go"
   ]
  },
  {
   "cell_type": "code",
   "execution_count": 5,
   "metadata": {},
   "outputs": [],
   "source": [
    "#diretorios de trabalho\n",
    "estados_brasileiros = 'D://caiof//Documents//GIT_Repos//Arquiteto_BigData-IGTI//Bases_Dados//datasets//estados_brasileiros.csv'\n",
    "clientes = 'D://caiof//Documents//GIT_Repos//Arquiteto_BigData-IGTI//Bases_Dados//datasets//amostra_dados_clientes.xlsx'\n",
    "idade_clientes = 'D://caiof//Documents//GIT_Repos//Arquiteto_BigData-IGTI//Bases_Dados//datasets//idade_clientes.csv'"
   ]
  },
  {
   "cell_type": "code",
   "execution_count": 6,
   "metadata": {},
   "outputs": [],
   "source": [
    "#coletando dados de estados brasileiros\n",
    "estados = pd.read_csv(estados_brasileiros, sep=';', encoding='latin-1')\n",
    "#coletando dados de clientes\n",
    "clientes = pd.read_excel(clientes)\n",
    "# coletando dados de idade dos clientes\n",
    "idade = pd.read_csv(idade_clientes, sep=';', encoding='latin-1')"
   ]
  },
  {
   "cell_type": "markdown",
   "metadata": {},
   "source": [
    "Analisando dados ausentes"
   ]
  },
  {
   "cell_type": "code",
   "execution_count": 7,
   "metadata": {},
   "outputs": [
    {
     "data": {
      "text/html": [
       "<div>\n",
       "<style scoped>\n",
       "    .dataframe tbody tr th:only-of-type {\n",
       "        vertical-align: middle;\n",
       "    }\n",
       "\n",
       "    .dataframe tbody tr th {\n",
       "        vertical-align: top;\n",
       "    }\n",
       "\n",
       "    .dataframe thead th {\n",
       "        text-align: right;\n",
       "    }\n",
       "</style>\n",
       "<table border=\"1\" class=\"dataframe\">\n",
       "  <thead>\n",
       "    <tr style=\"text-align: right;\">\n",
       "      <th></th>\n",
       "      <th>id_cliente</th>\n",
       "      <th>peso</th>\n",
       "      <th>colesterol</th>\n",
       "      <th>genero</th>\n",
       "      <th>id_estado</th>\n",
       "    </tr>\n",
       "  </thead>\n",
       "  <tbody>\n",
       "    <tr>\n",
       "      <th>32</th>\n",
       "      <td>33</td>\n",
       "      <td>NaN</td>\n",
       "      <td>188</td>\n",
       "      <td>Masculino</td>\n",
       "      <td>22</td>\n",
       "    </tr>\n",
       "    <tr>\n",
       "      <th>41</th>\n",
       "      <td>42</td>\n",
       "      <td>NaN</td>\n",
       "      <td>177</td>\n",
       "      <td>Masculino</td>\n",
       "      <td>20</td>\n",
       "    </tr>\n",
       "    <tr>\n",
       "      <th>87</th>\n",
       "      <td>88</td>\n",
       "      <td>NaN</td>\n",
       "      <td>168</td>\n",
       "      <td>Feminino</td>\n",
       "      <td>12</td>\n",
       "    </tr>\n",
       "  </tbody>\n",
       "</table>\n",
       "</div>"
      ],
      "text/plain": [
       "    id_cliente  peso  colesterol     genero  id_estado\n",
       "32          33   NaN         188  Masculino         22\n",
       "41          42   NaN         177  Masculino         20\n",
       "87          88   NaN         168   Feminino         12"
      ]
     },
     "execution_count": 7,
     "metadata": {},
     "output_type": "execute_result"
    }
   ],
   "source": [
    "#verificando os registros com valores nulos\n",
    "clientes.loc[clientes['peso'].isnull()]"
   ]
  },
  {
   "cell_type": "code",
   "execution_count": 8,
   "metadata": {},
   "outputs": [],
   "source": [
    "#realizando a media e mediana da variavel peso\n",
    "\n",
    "media = round(clientes.peso.mean(),2)\n",
    "mediana = clientes.peso.median()"
   ]
  },
  {
   "cell_type": "code",
   "execution_count": 19,
   "metadata": {},
   "outputs": [
    {
     "name": "stdout",
     "output_type": "stream",
     "text": [
      "O valor da media dos pesos é 142.32\n",
      " O valor da mediana é 138.5\n"
     ]
    }
   ],
   "source": [
    "#verificando valores:\n",
    "\n",
    "print(f'O valor da media dos pesos é {media}\\n O valor da mediana é {mediana}')"
   ]
  },
  {
   "cell_type": "code",
   "execution_count": 9,
   "metadata": {},
   "outputs": [],
   "source": [
    "#preencheno valores ausentes com a media\n",
    "(\n",
    "    clientes\n",
    "    .peso\n",
    "    .fillna(media, inplace=True)\n",
    ")"
   ]
  },
  {
   "cell_type": "code",
   "execution_count": 10,
   "metadata": {},
   "outputs": [
    {
     "data": {
      "text/html": [
       "<div>\n",
       "<style scoped>\n",
       "    .dataframe tbody tr th:only-of-type {\n",
       "        vertical-align: middle;\n",
       "    }\n",
       "\n",
       "    .dataframe tbody tr th {\n",
       "        vertical-align: top;\n",
       "    }\n",
       "\n",
       "    .dataframe thead th {\n",
       "        text-align: right;\n",
       "    }\n",
       "</style>\n",
       "<table border=\"1\" class=\"dataframe\">\n",
       "  <thead>\n",
       "    <tr style=\"text-align: right;\">\n",
       "      <th></th>\n",
       "      <th>id_cliente</th>\n",
       "      <th>peso</th>\n",
       "      <th>colesterol</th>\n",
       "      <th>genero</th>\n",
       "      <th>id_estado</th>\n",
       "    </tr>\n",
       "  </thead>\n",
       "  <tbody>\n",
       "    <tr>\n",
       "      <th>11</th>\n",
       "      <td>12</td>\n",
       "      <td>188.0</td>\n",
       "      <td>222</td>\n",
       "      <td>Masculino</td>\n",
       "      <td>6</td>\n",
       "    </tr>\n",
       "    <tr>\n",
       "      <th>220</th>\n",
       "      <td>221</td>\n",
       "      <td>180.0</td>\n",
       "      <td>219</td>\n",
       "      <td>Masculino</td>\n",
       "      <td>20</td>\n",
       "    </tr>\n",
       "    <tr>\n",
       "      <th>208</th>\n",
       "      <td>209</td>\n",
       "      <td>100.0</td>\n",
       "      <td>106</td>\n",
       "      <td>Masculino</td>\n",
       "      <td>14</td>\n",
       "    </tr>\n",
       "    <tr>\n",
       "      <th>30</th>\n",
       "      <td>31</td>\n",
       "      <td>169.0</td>\n",
       "      <td>204</td>\n",
       "      <td>Masculino</td>\n",
       "      <td>8</td>\n",
       "    </tr>\n",
       "    <tr>\n",
       "      <th>60</th>\n",
       "      <td>61</td>\n",
       "      <td>113.0</td>\n",
       "      <td>129</td>\n",
       "      <td>Feminino</td>\n",
       "      <td>23</td>\n",
       "    </tr>\n",
       "    <tr>\n",
       "      <th>42</th>\n",
       "      <td>43</td>\n",
       "      <td>117.0</td>\n",
       "      <td>139</td>\n",
       "      <td>Masculino</td>\n",
       "      <td>4</td>\n",
       "    </tr>\n",
       "    <tr>\n",
       "      <th>19</th>\n",
       "      <td>20</td>\n",
       "      <td>133.0</td>\n",
       "      <td>163</td>\n",
       "      <td>Feminino</td>\n",
       "      <td>5</td>\n",
       "    </tr>\n",
       "    <tr>\n",
       "      <th>212</th>\n",
       "      <td>213</td>\n",
       "      <td>154.0</td>\n",
       "      <td>191</td>\n",
       "      <td>Feminino</td>\n",
       "      <td>15</td>\n",
       "    </tr>\n",
       "    <tr>\n",
       "      <th>72</th>\n",
       "      <td>73</td>\n",
       "      <td>130.0</td>\n",
       "      <td>158</td>\n",
       "      <td>Masculino</td>\n",
       "      <td>2</td>\n",
       "    </tr>\n",
       "    <tr>\n",
       "      <th>99</th>\n",
       "      <td>100</td>\n",
       "      <td>102.0</td>\n",
       "      <td>115</td>\n",
       "      <td>Masculino</td>\n",
       "      <td>6</td>\n",
       "    </tr>\n",
       "    <tr>\n",
       "      <th>59</th>\n",
       "      <td>60</td>\n",
       "      <td>145.0</td>\n",
       "      <td>175</td>\n",
       "      <td>Masculino</td>\n",
       "      <td>22</td>\n",
       "    </tr>\n",
       "    <tr>\n",
       "      <th>107</th>\n",
       "      <td>108</td>\n",
       "      <td>142.0</td>\n",
       "      <td>169</td>\n",
       "      <td>Feminino</td>\n",
       "      <td>17</td>\n",
       "    </tr>\n",
       "    <tr>\n",
       "      <th>146</th>\n",
       "      <td>147</td>\n",
       "      <td>141.0</td>\n",
       "      <td>171</td>\n",
       "      <td>Masculino</td>\n",
       "      <td>23</td>\n",
       "    </tr>\n",
       "    <tr>\n",
       "      <th>178</th>\n",
       "      <td>179</td>\n",
       "      <td>180.0</td>\n",
       "      <td>213</td>\n",
       "      <td>Masculino</td>\n",
       "      <td>3</td>\n",
       "    </tr>\n",
       "    <tr>\n",
       "      <th>104</th>\n",
       "      <td>105</td>\n",
       "      <td>179.0</td>\n",
       "      <td>214</td>\n",
       "      <td>Masculino</td>\n",
       "      <td>18</td>\n",
       "    </tr>\n",
       "    <tr>\n",
       "      <th>86</th>\n",
       "      <td>87</td>\n",
       "      <td>144.0</td>\n",
       "      <td>172</td>\n",
       "      <td>Masculino</td>\n",
       "      <td>5</td>\n",
       "    </tr>\n",
       "    <tr>\n",
       "      <th>121</th>\n",
       "      <td>122</td>\n",
       "      <td>116.0</td>\n",
       "      <td>136</td>\n",
       "      <td>Masculino</td>\n",
       "      <td>10</td>\n",
       "    </tr>\n",
       "    <tr>\n",
       "      <th>163</th>\n",
       "      <td>164</td>\n",
       "      <td>133.0</td>\n",
       "      <td>155</td>\n",
       "      <td>Feminino</td>\n",
       "      <td>23</td>\n",
       "    </tr>\n",
       "    <tr>\n",
       "      <th>108</th>\n",
       "      <td>109</td>\n",
       "      <td>101.0</td>\n",
       "      <td>110</td>\n",
       "      <td>Masculino</td>\n",
       "      <td>4</td>\n",
       "    </tr>\n",
       "    <tr>\n",
       "      <th>197</th>\n",
       "      <td>198</td>\n",
       "      <td>173.0</td>\n",
       "      <td>211</td>\n",
       "      <td>Masculino</td>\n",
       "      <td>11</td>\n",
       "    </tr>\n",
       "  </tbody>\n",
       "</table>\n",
       "</div>"
      ],
      "text/plain": [
       "     id_cliente   peso  colesterol     genero  id_estado\n",
       "11           12  188.0         222  Masculino          6\n",
       "220         221  180.0         219  Masculino         20\n",
       "208         209  100.0         106  Masculino         14\n",
       "30           31  169.0         204  Masculino          8\n",
       "60           61  113.0         129   Feminino         23\n",
       "42           43  117.0         139  Masculino          4\n",
       "19           20  133.0         163   Feminino          5\n",
       "212         213  154.0         191   Feminino         15\n",
       "72           73  130.0         158  Masculino          2\n",
       "99          100  102.0         115  Masculino          6\n",
       "59           60  145.0         175  Masculino         22\n",
       "107         108  142.0         169   Feminino         17\n",
       "146         147  141.0         171  Masculino         23\n",
       "178         179  180.0         213  Masculino          3\n",
       "104         105  179.0         214  Masculino         18\n",
       "86           87  144.0         172  Masculino          5\n",
       "121         122  116.0         136  Masculino         10\n",
       "163         164  133.0         155   Feminino         23\n",
       "108         109  101.0         110  Masculino          4\n",
       "197         198  173.0         211  Masculino         11"
      ]
     },
     "execution_count": 10,
     "metadata": {},
     "output_type": "execute_result"
    }
   ],
   "source": [
    "clientes.sample(20)"
   ]
  },
  {
   "cell_type": "markdown",
   "metadata": {},
   "source": [
    "Substituindo variavel categorica\n",
    "\n",
    "Quando temos uma variavel do tipo categorica, uma abordagem é substituir o valor ausente pela variavel mais frequente encontrada no conjunto de dados."
   ]
  },
  {
   "cell_type": "code",
   "execution_count": 23,
   "metadata": {},
   "outputs": [
    {
     "name": "stdout",
     "output_type": "stream",
     "text": [
      "Brasil    22\n",
      "Name: pais, dtype: int64\n"
     ]
    }
   ],
   "source": [
    "print(estados.pais.value_counts())"
   ]
  },
  {
   "cell_type": "code",
   "execution_count": 24,
   "metadata": {},
   "outputs": [],
   "source": [
    "#substituindo os valores nulos pelo valor mais frequente no dataset\n",
    "(\n",
    "    estados\n",
    "    .pais\n",
    "    .fillna('Brasil', inplace=True)\n",
    "\n",
    ")"
   ]
  },
  {
   "cell_type": "code",
   "execution_count": 25,
   "metadata": {},
   "outputs": [
    {
     "data": {
      "text/plain": [
       "id_estado       0\n",
       "estado          0\n",
       "sigla_estado    0\n",
       "pais            0\n",
       "dtype: int64"
      ]
     },
     "execution_count": 25,
     "metadata": {},
     "output_type": "execute_result"
    }
   ],
   "source": [
    "estados.isna().sum()"
   ]
  },
  {
   "cell_type": "markdown",
   "metadata": {},
   "source": [
    "Analisando distribuição dos dados"
   ]
  },
  {
   "cell_type": "code",
   "execution_count": 26,
   "metadata": {},
   "outputs": [
    {
     "data": {
      "image/png": "[encoded data removed]",
      "text/plain": [
       "<Figure size 1500x700 with 1 Axes>"
      ]
     },
     "metadata": {},
     "output_type": "display_data"
    }
   ],
   "source": [
    "clientes.hist(column= 'peso', figsize= (15,7))\n",
    "plt.show()\n"
   ]
  },
  {
   "cell_type": "code",
   "execution_count": 27,
   "metadata": {},
   "outputs": [
    {
     "data": {
      "image/png": "[encoded data removed]",
      "text/plain": [
       "<Figure size 1500x700 with 1 Axes>"
      ]
     },
     "metadata": {},
     "output_type": "display_data"
    }
   ],
   "source": [
    "clientes.hist(column= 'peso', figsize= (15,7),bins=100)\n",
    "plt.show()"
   ]
  },
  {
   "cell_type": "code",
   "execution_count": 28,
   "metadata": {},
   "outputs": [
    {
     "data": {
      "image/png": "[encoded data removed]",
      "text/plain": [
       "<Figure size 1500x700 with 1 Axes>"
      ]
     },
     "metadata": {},
     "output_type": "display_data"
    }
   ],
   "source": [
    "clientes.hist(column= 'colesterol', figsize= (15,7), bins=100)\n",
    "plt.show()"
   ]
  },
  {
   "cell_type": "code",
   "execution_count": 29,
   "metadata": {},
   "outputs": [],
   "source": [
    "#criando um identificador para a variavel genero"
   ]
  },
  {
   "cell_type": "code",
   "execution_count": 30,
   "metadata": {},
   "outputs": [],
   "source": [
    "LE = LabelEncoder()\n",
    "clientes['genero_number'] = LE.fit_transform(clientes['genero'])"
   ]
  },
  {
   "cell_type": "code",
   "execution_count": 31,
   "metadata": {},
   "outputs": [
    {
     "data": {
      "text/html": [
       "<div>\n",
       "<style scoped>\n",
       "    .dataframe tbody tr th:only-of-type {\n",
       "        vertical-align: middle;\n",
       "    }\n",
       "\n",
       "    .dataframe tbody tr th {\n",
       "        vertical-align: top;\n",
       "    }\n",
       "\n",
       "    .dataframe thead th {\n",
       "        text-align: right;\n",
       "    }\n",
       "</style>\n",
       "<table border=\"1\" class=\"dataframe\">\n",
       "  <thead>\n",
       "    <tr style=\"text-align: right;\">\n",
       "      <th></th>\n",
       "      <th>id_cliente</th>\n",
       "      <th>peso</th>\n",
       "      <th>colesterol</th>\n",
       "      <th>genero</th>\n",
       "      <th>id_estado</th>\n",
       "      <th>genero_number</th>\n",
       "    </tr>\n",
       "  </thead>\n",
       "  <tbody>\n",
       "    <tr>\n",
       "      <th>0</th>\n",
       "      <td>1</td>\n",
       "      <td>102.0</td>\n",
       "      <td>111</td>\n",
       "      <td>Masculino</td>\n",
       "      <td>23</td>\n",
       "      <td>1</td>\n",
       "    </tr>\n",
       "    <tr>\n",
       "      <th>1</th>\n",
       "      <td>2</td>\n",
       "      <td>115.0</td>\n",
       "      <td>135</td>\n",
       "      <td>Masculino</td>\n",
       "      <td>7</td>\n",
       "      <td>1</td>\n",
       "    </tr>\n",
       "    <tr>\n",
       "      <th>2</th>\n",
       "      <td>3</td>\n",
       "      <td>115.0</td>\n",
       "      <td>136</td>\n",
       "      <td>Masculino</td>\n",
       "      <td>4</td>\n",
       "      <td>1</td>\n",
       "    </tr>\n",
       "    <tr>\n",
       "      <th>3</th>\n",
       "      <td>4</td>\n",
       "      <td>140.0</td>\n",
       "      <td>167</td>\n",
       "      <td>Feminino</td>\n",
       "      <td>24</td>\n",
       "      <td>0</td>\n",
       "    </tr>\n",
       "    <tr>\n",
       "      <th>4</th>\n",
       "      <td>5</td>\n",
       "      <td>130.0</td>\n",
       "      <td>158</td>\n",
       "      <td>Masculino</td>\n",
       "      <td>26</td>\n",
       "      <td>1</td>\n",
       "    </tr>\n",
       "    <tr>\n",
       "      <th>...</th>\n",
       "      <td>...</td>\n",
       "      <td>...</td>\n",
       "      <td>...</td>\n",
       "      <td>...</td>\n",
       "      <td>...</td>\n",
       "      <td>...</td>\n",
       "    </tr>\n",
       "    <tr>\n",
       "      <th>220</th>\n",
       "      <td>221</td>\n",
       "      <td>180.0</td>\n",
       "      <td>219</td>\n",
       "      <td>Masculino</td>\n",
       "      <td>20</td>\n",
       "      <td>1</td>\n",
       "    </tr>\n",
       "    <tr>\n",
       "      <th>221</th>\n",
       "      <td>222</td>\n",
       "      <td>116.0</td>\n",
       "      <td>138</td>\n",
       "      <td>Feminino</td>\n",
       "      <td>15</td>\n",
       "      <td>0</td>\n",
       "    </tr>\n",
       "    <tr>\n",
       "      <th>222</th>\n",
       "      <td>223</td>\n",
       "      <td>144.0</td>\n",
       "      <td>169</td>\n",
       "      <td>Feminino</td>\n",
       "      <td>18</td>\n",
       "      <td>0</td>\n",
       "    </tr>\n",
       "    <tr>\n",
       "      <th>223</th>\n",
       "      <td>224</td>\n",
       "      <td>102.0</td>\n",
       "      <td>116</td>\n",
       "      <td>Masculino</td>\n",
       "      <td>6</td>\n",
       "      <td>1</td>\n",
       "    </tr>\n",
       "    <tr>\n",
       "      <th>224</th>\n",
       "      <td>225</td>\n",
       "      <td>176.0</td>\n",
       "      <td>212</td>\n",
       "      <td>Masculino</td>\n",
       "      <td>7</td>\n",
       "      <td>1</td>\n",
       "    </tr>\n",
       "  </tbody>\n",
       "</table>\n",
       "<p>225 rows × 6 columns</p>\n",
       "</div>"
      ],
      "text/plain": [
       "     id_cliente   peso  colesterol     genero  id_estado  genero_number\n",
       "0             1  102.0         111  Masculino         23              1\n",
       "1             2  115.0         135  Masculino          7              1\n",
       "2             3  115.0         136  Masculino          4              1\n",
       "3             4  140.0         167   Feminino         24              0\n",
       "4             5  130.0         158  Masculino         26              1\n",
       "..          ...    ...         ...        ...        ...            ...\n",
       "220         221  180.0         219  Masculino         20              1\n",
       "221         222  116.0         138   Feminino         15              0\n",
       "222         223  144.0         169   Feminino         18              0\n",
       "223         224  102.0         116  Masculino          6              1\n",
       "224         225  176.0         212  Masculino          7              1\n",
       "\n",
       "[225 rows x 6 columns]"
      ]
     },
     "execution_count": 31,
     "metadata": {},
     "output_type": "execute_result"
    }
   ],
   "source": [
    "clientes"
   ]
  },
  {
   "cell_type": "code",
   "execution_count": 32,
   "metadata": {},
   "outputs": [
    {
     "data": {
      "text/plain": [
       "array([[<Axes: title={'center': 'genero_number'}>]], dtype=object)"
      ]
     },
     "execution_count": 32,
     "metadata": {},
     "output_type": "execute_result"
    },
    {
     "data": {
      "image/png": "[encoded data removed]",
      "text/plain": [
       "<Figure size 1500x700 with 1 Axes>"
      ]
     },
     "metadata": {},
     "output_type": "display_data"
    }
   ],
   "source": [
    "clientes.hist(column= 'genero_number', figsize=(15,7), bins=3)"
   ]
  },
  {
   "cell_type": "markdown",
   "metadata": {},
   "source": [
    "Junção entre os dados coletados\n",
    "\n",
    "nessa etapa vamos realizar o merge entre os dados que realizamos a coleta"
   ]
  },
  {
   "cell_type": "code",
   "execution_count": 33,
   "metadata": {},
   "outputs": [
    {
     "data": {
      "text/html": [
       "<div>\n",
       "<style scoped>\n",
       "    .dataframe tbody tr th:only-of-type {\n",
       "        vertical-align: middle;\n",
       "    }\n",
       "\n",
       "    .dataframe tbody tr th {\n",
       "        vertical-align: top;\n",
       "    }\n",
       "\n",
       "    .dataframe thead th {\n",
       "        text-align: right;\n",
       "    }\n",
       "</style>\n",
       "<table border=\"1\" class=\"dataframe\">\n",
       "  <thead>\n",
       "    <tr style=\"text-align: right;\">\n",
       "      <th></th>\n",
       "      <th>id_estado</th>\n",
       "      <th>estado</th>\n",
       "      <th>sigla_estado</th>\n",
       "      <th>pais</th>\n",
       "    </tr>\n",
       "  </thead>\n",
       "  <tbody>\n",
       "    <tr>\n",
       "      <th>0</th>\n",
       "      <td>1</td>\n",
       "      <td>Acre</td>\n",
       "      <td>ac</td>\n",
       "      <td>Brasil</td>\n",
       "    </tr>\n",
       "    <tr>\n",
       "      <th>1</th>\n",
       "      <td>2</td>\n",
       "      <td>Alagoas</td>\n",
       "      <td>al</td>\n",
       "      <td>Brasil</td>\n",
       "    </tr>\n",
       "    <tr>\n",
       "      <th>2</th>\n",
       "      <td>3</td>\n",
       "      <td>Amapá</td>\n",
       "      <td>ap</td>\n",
       "      <td>Brasil</td>\n",
       "    </tr>\n",
       "    <tr>\n",
       "      <th>3</th>\n",
       "      <td>4</td>\n",
       "      <td>Amazonas</td>\n",
       "      <td>am</td>\n",
       "      <td>Brasil</td>\n",
       "    </tr>\n",
       "    <tr>\n",
       "      <th>4</th>\n",
       "      <td>5</td>\n",
       "      <td>Bahia</td>\n",
       "      <td>ba</td>\n",
       "      <td>Brasil</td>\n",
       "    </tr>\n",
       "  </tbody>\n",
       "</table>\n",
       "</div>"
      ],
      "text/plain": [
       "   id_estado    estado sigla_estado    pais\n",
       "0          1      Acre           ac  Brasil\n",
       "1          2   Alagoas           al  Brasil\n",
       "2          3     Amapá           ap  Brasil\n",
       "3          4  Amazonas           am  Brasil\n",
       "4          5     Bahia           ba  Brasil"
      ]
     },
     "execution_count": 33,
     "metadata": {},
     "output_type": "execute_result"
    }
   ],
   "source": [
    "estados[:5]"
   ]
  },
  {
   "cell_type": "code",
   "execution_count": 34,
   "metadata": {},
   "outputs": [
    {
     "data": {
      "text/html": [
       "<div>\n",
       "<style scoped>\n",
       "    .dataframe tbody tr th:only-of-type {\n",
       "        vertical-align: middle;\n",
       "    }\n",
       "\n",
       "    .dataframe tbody tr th {\n",
       "        vertical-align: top;\n",
       "    }\n",
       "\n",
       "    .dataframe thead th {\n",
       "        text-align: right;\n",
       "    }\n",
       "</style>\n",
       "<table border=\"1\" class=\"dataframe\">\n",
       "  <thead>\n",
       "    <tr style=\"text-align: right;\">\n",
       "      <th></th>\n",
       "      <th>id_cliente</th>\n",
       "      <th>peso</th>\n",
       "      <th>colesterol</th>\n",
       "      <th>genero</th>\n",
       "      <th>id_estado</th>\n",
       "      <th>genero_number</th>\n",
       "    </tr>\n",
       "  </thead>\n",
       "  <tbody>\n",
       "    <tr>\n",
       "      <th>0</th>\n",
       "      <td>1</td>\n",
       "      <td>102.0</td>\n",
       "      <td>111</td>\n",
       "      <td>Masculino</td>\n",
       "      <td>23</td>\n",
       "      <td>1</td>\n",
       "    </tr>\n",
       "    <tr>\n",
       "      <th>1</th>\n",
       "      <td>2</td>\n",
       "      <td>115.0</td>\n",
       "      <td>135</td>\n",
       "      <td>Masculino</td>\n",
       "      <td>7</td>\n",
       "      <td>1</td>\n",
       "    </tr>\n",
       "    <tr>\n",
       "      <th>2</th>\n",
       "      <td>3</td>\n",
       "      <td>115.0</td>\n",
       "      <td>136</td>\n",
       "      <td>Masculino</td>\n",
       "      <td>4</td>\n",
       "      <td>1</td>\n",
       "    </tr>\n",
       "    <tr>\n",
       "      <th>3</th>\n",
       "      <td>4</td>\n",
       "      <td>140.0</td>\n",
       "      <td>167</td>\n",
       "      <td>Feminino</td>\n",
       "      <td>24</td>\n",
       "      <td>0</td>\n",
       "    </tr>\n",
       "    <tr>\n",
       "      <th>4</th>\n",
       "      <td>5</td>\n",
       "      <td>130.0</td>\n",
       "      <td>158</td>\n",
       "      <td>Masculino</td>\n",
       "      <td>26</td>\n",
       "      <td>1</td>\n",
       "    </tr>\n",
       "  </tbody>\n",
       "</table>\n",
       "</div>"
      ],
      "text/plain": [
       "   id_cliente   peso  colesterol     genero  id_estado  genero_number\n",
       "0           1  102.0         111  Masculino         23              1\n",
       "1           2  115.0         135  Masculino          7              1\n",
       "2           3  115.0         136  Masculino          4              1\n",
       "3           4  140.0         167   Feminino         24              0\n",
       "4           5  130.0         158  Masculino         26              1"
      ]
     },
     "execution_count": 34,
     "metadata": {},
     "output_type": "execute_result"
    }
   ],
   "source": [
    "clientes[:5]"
   ]
  },
  {
   "cell_type": "code",
   "execution_count": 35,
   "metadata": {},
   "outputs": [
    {
     "data": {
      "text/html": [
       "<div>\n",
       "<style scoped>\n",
       "    .dataframe tbody tr th:only-of-type {\n",
       "        vertical-align: middle;\n",
       "    }\n",
       "\n",
       "    .dataframe tbody tr th {\n",
       "        vertical-align: top;\n",
       "    }\n",
       "\n",
       "    .dataframe thead th {\n",
       "        text-align: right;\n",
       "    }\n",
       "</style>\n",
       "<table border=\"1\" class=\"dataframe\">\n",
       "  <thead>\n",
       "    <tr style=\"text-align: right;\">\n",
       "      <th></th>\n",
       "      <th>id_cliente</th>\n",
       "      <th>peso</th>\n",
       "      <th>colesterol</th>\n",
       "      <th>genero</th>\n",
       "      <th>id_estado</th>\n",
       "      <th>genero_number</th>\n",
       "      <th>estado</th>\n",
       "      <th>sigla_estado</th>\n",
       "      <th>pais</th>\n",
       "    </tr>\n",
       "  </thead>\n",
       "  <tbody>\n",
       "    <tr>\n",
       "      <th>0</th>\n",
       "      <td>1</td>\n",
       "      <td>102.0</td>\n",
       "      <td>111</td>\n",
       "      <td>Masculino</td>\n",
       "      <td>23</td>\n",
       "      <td>1</td>\n",
       "      <td>Roraima</td>\n",
       "      <td>rr</td>\n",
       "      <td>Brasil</td>\n",
       "    </tr>\n",
       "    <tr>\n",
       "      <th>9</th>\n",
       "      <td>2</td>\n",
       "      <td>115.0</td>\n",
       "      <td>135</td>\n",
       "      <td>Masculino</td>\n",
       "      <td>7</td>\n",
       "      <td>1</td>\n",
       "      <td>Distrito Federal</td>\n",
       "      <td>df</td>\n",
       "      <td>Brasil</td>\n",
       "    </tr>\n",
       "    <tr>\n",
       "      <th>21</th>\n",
       "      <td>3</td>\n",
       "      <td>115.0</td>\n",
       "      <td>136</td>\n",
       "      <td>Masculino</td>\n",
       "      <td>4</td>\n",
       "      <td>1</td>\n",
       "      <td>Amazonas</td>\n",
       "      <td>am</td>\n",
       "      <td>Brasil</td>\n",
       "    </tr>\n",
       "    <tr>\n",
       "      <th>32</th>\n",
       "      <td>4</td>\n",
       "      <td>140.0</td>\n",
       "      <td>167</td>\n",
       "      <td>Feminino</td>\n",
       "      <td>24</td>\n",
       "      <td>0</td>\n",
       "      <td>Santa Catarina</td>\n",
       "      <td>sc</td>\n",
       "      <td>Brasil</td>\n",
       "    </tr>\n",
       "    <tr>\n",
       "      <th>39</th>\n",
       "      <td>5</td>\n",
       "      <td>130.0</td>\n",
       "      <td>158</td>\n",
       "      <td>Masculino</td>\n",
       "      <td>26</td>\n",
       "      <td>1</td>\n",
       "      <td>Sergipe</td>\n",
       "      <td>se</td>\n",
       "      <td>Brasil</td>\n",
       "    </tr>\n",
       "    <tr>\n",
       "      <th>...</th>\n",
       "      <td>...</td>\n",
       "      <td>...</td>\n",
       "      <td>...</td>\n",
       "      <td>...</td>\n",
       "      <td>...</td>\n",
       "      <td>...</td>\n",
       "      <td>...</td>\n",
       "      <td>...</td>\n",
       "      <td>...</td>\n",
       "    </tr>\n",
       "    <tr>\n",
       "      <th>167</th>\n",
       "      <td>221</td>\n",
       "      <td>180.0</td>\n",
       "      <td>219</td>\n",
       "      <td>Masculino</td>\n",
       "      <td>20</td>\n",
       "      <td>1</td>\n",
       "      <td>Rio Grande do Norte</td>\n",
       "      <td>rn</td>\n",
       "      <td>Brasil</td>\n",
       "    </tr>\n",
       "    <tr>\n",
       "      <th>126</th>\n",
       "      <td>222</td>\n",
       "      <td>116.0</td>\n",
       "      <td>138</td>\n",
       "      <td>Feminino</td>\n",
       "      <td>15</td>\n",
       "      <td>0</td>\n",
       "      <td>Paraíba</td>\n",
       "      <td>pb</td>\n",
       "      <td>Brasil</td>\n",
       "    </tr>\n",
       "    <tr>\n",
       "      <th>196</th>\n",
       "      <td>223</td>\n",
       "      <td>144.0</td>\n",
       "      <td>169</td>\n",
       "      <td>Feminino</td>\n",
       "      <td>18</td>\n",
       "      <td>0</td>\n",
       "      <td>Piauí</td>\n",
       "      <td>pi</td>\n",
       "      <td>Brasil</td>\n",
       "    </tr>\n",
       "    <tr>\n",
       "      <th>77</th>\n",
       "      <td>224</td>\n",
       "      <td>102.0</td>\n",
       "      <td>116</td>\n",
       "      <td>Masculino</td>\n",
       "      <td>6</td>\n",
       "      <td>1</td>\n",
       "      <td>Ceará</td>\n",
       "      <td>ce</td>\n",
       "      <td>Brasil</td>\n",
       "    </tr>\n",
       "    <tr>\n",
       "      <th>20</th>\n",
       "      <td>225</td>\n",
       "      <td>176.0</td>\n",
       "      <td>212</td>\n",
       "      <td>Masculino</td>\n",
       "      <td>7</td>\n",
       "      <td>1</td>\n",
       "      <td>Distrito Federal</td>\n",
       "      <td>df</td>\n",
       "      <td>Brasil</td>\n",
       "    </tr>\n",
       "  </tbody>\n",
       "</table>\n",
       "<p>225 rows × 9 columns</p>\n",
       "</div>"
      ],
      "text/plain": [
       "     id_cliente   peso  colesterol     genero  id_estado  genero_number  \\\n",
       "0             1  102.0         111  Masculino         23              1   \n",
       "9             2  115.0         135  Masculino          7              1   \n",
       "21            3  115.0         136  Masculino          4              1   \n",
       "32            4  140.0         167   Feminino         24              0   \n",
       "39            5  130.0         158  Masculino         26              1   \n",
       "..          ...    ...         ...        ...        ...            ...   \n",
       "167         221  180.0         219  Masculino         20              1   \n",
       "126         222  116.0         138   Feminino         15              0   \n",
       "196         223  144.0         169   Feminino         18              0   \n",
       "77          224  102.0         116  Masculino          6              1   \n",
       "20          225  176.0         212  Masculino          7              1   \n",
       "\n",
       "                  estado sigla_estado    pais  \n",
       "0                Roraima           rr  Brasil  \n",
       "9       Distrito Federal           df  Brasil  \n",
       "21              Amazonas           am  Brasil  \n",
       "32        Santa Catarina           sc  Brasil  \n",
       "39               Sergipe           se  Brasil  \n",
       "..                   ...          ...     ...  \n",
       "167  Rio Grande do Norte           rn  Brasil  \n",
       "126              Paraíba           pb  Brasil  \n",
       "196                Piauí           pi  Brasil  \n",
       "77                 Ceará           ce  Brasil  \n",
       "20      Distrito Federal           df  Brasil  \n",
       "\n",
       "[225 rows x 9 columns]"
      ]
     },
     "execution_count": 35,
     "metadata": {},
     "output_type": "execute_result"
    }
   ],
   "source": [
    "#merge dos dados\n",
    "\n",
    "clientes_estados = pd.merge(clientes, estados, on='id_estado')\n",
    "clientes_estados.sort_values('id_cliente')"
   ]
  },
  {
   "cell_type": "code",
   "execution_count": 36,
   "metadata": {},
   "outputs": [
    {
     "data": {
      "text/html": [
       "<div>\n",
       "<style scoped>\n",
       "    .dataframe tbody tr th:only-of-type {\n",
       "        vertical-align: middle;\n",
       "    }\n",
       "\n",
       "    .dataframe tbody tr th {\n",
       "        vertical-align: top;\n",
       "    }\n",
       "\n",
       "    .dataframe thead th {\n",
       "        text-align: right;\n",
       "    }\n",
       "</style>\n",
       "<table border=\"1\" class=\"dataframe\">\n",
       "  <thead>\n",
       "    <tr style=\"text-align: right;\">\n",
       "      <th></th>\n",
       "      <th>id_cliente</th>\n",
       "      <th>peso</th>\n",
       "      <th>colesterol</th>\n",
       "      <th>genero</th>\n",
       "      <th>id_estado</th>\n",
       "      <th>genero_number</th>\n",
       "      <th>estado</th>\n",
       "      <th>sigla_estado</th>\n",
       "      <th>pais</th>\n",
       "      <th>idade</th>\n",
       "    </tr>\n",
       "  </thead>\n",
       "  <tbody>\n",
       "    <tr>\n",
       "      <th>72</th>\n",
       "      <td>138</td>\n",
       "      <td>203.0</td>\n",
       "      <td>231</td>\n",
       "      <td>Masculino</td>\n",
       "      <td>6</td>\n",
       "      <td>1</td>\n",
       "      <td>Ceará</td>\n",
       "      <td>ce</td>\n",
       "      <td>Brasil</td>\n",
       "      <td>39</td>\n",
       "    </tr>\n",
       "    <tr>\n",
       "      <th>126</th>\n",
       "      <td>222</td>\n",
       "      <td>116.0</td>\n",
       "      <td>138</td>\n",
       "      <td>Feminino</td>\n",
       "      <td>15</td>\n",
       "      <td>0</td>\n",
       "      <td>Paraíba</td>\n",
       "      <td>pb</td>\n",
       "      <td>Brasil</td>\n",
       "      <td>38</td>\n",
       "    </tr>\n",
       "    <tr>\n",
       "      <th>70</th>\n",
       "      <td>100</td>\n",
       "      <td>102.0</td>\n",
       "      <td>115</td>\n",
       "      <td>Masculino</td>\n",
       "      <td>6</td>\n",
       "      <td>1</td>\n",
       "      <td>Ceará</td>\n",
       "      <td>ce</td>\n",
       "      <td>Brasil</td>\n",
       "      <td>20</td>\n",
       "    </tr>\n",
       "    <tr>\n",
       "      <th>122</th>\n",
       "      <td>166</td>\n",
       "      <td>120.0</td>\n",
       "      <td>144</td>\n",
       "      <td>Feminino</td>\n",
       "      <td>15</td>\n",
       "      <td>0</td>\n",
       "      <td>Paraíba</td>\n",
       "      <td>pb</td>\n",
       "      <td>Brasil</td>\n",
       "      <td>29</td>\n",
       "    </tr>\n",
       "    <tr>\n",
       "      <th>174</th>\n",
       "      <td>192</td>\n",
       "      <td>126.0</td>\n",
       "      <td>149</td>\n",
       "      <td>Feminino</td>\n",
       "      <td>13</td>\n",
       "      <td>0</td>\n",
       "      <td>Minas Gerais</td>\n",
       "      <td>mg</td>\n",
       "      <td>Brasil</td>\n",
       "      <td>53</td>\n",
       "    </tr>\n",
       "    <tr>\n",
       "      <th>207</th>\n",
       "      <td>208</td>\n",
       "      <td>110.0</td>\n",
       "      <td>127</td>\n",
       "      <td>Masculino</td>\n",
       "      <td>9</td>\n",
       "      <td>1</td>\n",
       "      <td>Goiás</td>\n",
       "      <td>go</td>\n",
       "      <td>Brasil</td>\n",
       "      <td>35</td>\n",
       "    </tr>\n",
       "    <tr>\n",
       "      <th>5</th>\n",
       "      <td>164</td>\n",
       "      <td>133.0</td>\n",
       "      <td>155</td>\n",
       "      <td>Feminino</td>\n",
       "      <td>23</td>\n",
       "      <td>0</td>\n",
       "      <td>Roraima</td>\n",
       "      <td>rr</td>\n",
       "      <td>Brasil</td>\n",
       "      <td>51</td>\n",
       "    </tr>\n",
       "    <tr>\n",
       "      <th>158</th>\n",
       "      <td>194</td>\n",
       "      <td>116.0</td>\n",
       "      <td>136</td>\n",
       "      <td>Feminino</td>\n",
       "      <td>21</td>\n",
       "      <td>0</td>\n",
       "      <td>Rio Grande do Sul</td>\n",
       "      <td>rs</td>\n",
       "      <td>Brasil</td>\n",
       "      <td>35</td>\n",
       "    </tr>\n",
       "    <tr>\n",
       "      <th>58</th>\n",
       "      <td>136</td>\n",
       "      <td>156.0</td>\n",
       "      <td>195</td>\n",
       "      <td>Feminino</td>\n",
       "      <td>25</td>\n",
       "      <td>0</td>\n",
       "      <td>São Paulo</td>\n",
       "      <td>sp</td>\n",
       "      <td>Brasil</td>\n",
       "      <td>59</td>\n",
       "    </tr>\n",
       "    <tr>\n",
       "      <th>73</th>\n",
       "      <td>139</td>\n",
       "      <td>141.0</td>\n",
       "      <td>172</td>\n",
       "      <td>Feminino</td>\n",
       "      <td>6</td>\n",
       "      <td>0</td>\n",
       "      <td>Ceará</td>\n",
       "      <td>ce</td>\n",
       "      <td>Brasil</td>\n",
       "      <td>35</td>\n",
       "    </tr>\n",
       "    <tr>\n",
       "      <th>142</th>\n",
       "      <td>26</td>\n",
       "      <td>183.0</td>\n",
       "      <td>218</td>\n",
       "      <td>Feminino</td>\n",
       "      <td>10</td>\n",
       "      <td>0</td>\n",
       "      <td>Maranhão</td>\n",
       "      <td>ma</td>\n",
       "      <td>Brasil</td>\n",
       "      <td>42</td>\n",
       "    </tr>\n",
       "    <tr>\n",
       "      <th>53</th>\n",
       "      <td>170</td>\n",
       "      <td>115.0</td>\n",
       "      <td>132</td>\n",
       "      <td>Feminino</td>\n",
       "      <td>8</td>\n",
       "      <td>0</td>\n",
       "      <td>Espírito Santo</td>\n",
       "      <td>es</td>\n",
       "      <td>Brasil</td>\n",
       "      <td>22</td>\n",
       "    </tr>\n",
       "    <tr>\n",
       "      <th>159</th>\n",
       "      <td>218</td>\n",
       "      <td>104.0</td>\n",
       "      <td>108</td>\n",
       "      <td>Feminino</td>\n",
       "      <td>21</td>\n",
       "      <td>0</td>\n",
       "      <td>Rio Grande do Sul</td>\n",
       "      <td>rs</td>\n",
       "      <td>Brasil</td>\n",
       "      <td>43</td>\n",
       "    </tr>\n",
       "    <tr>\n",
       "      <th>18</th>\n",
       "      <td>133</td>\n",
       "      <td>173.0</td>\n",
       "      <td>208</td>\n",
       "      <td>Masculino</td>\n",
       "      <td>7</td>\n",
       "      <td>1</td>\n",
       "      <td>Distrito Federal</td>\n",
       "      <td>df</td>\n",
       "      <td>Brasil</td>\n",
       "      <td>69</td>\n",
       "    </tr>\n",
       "    <tr>\n",
       "      <th>12</th>\n",
       "      <td>49</td>\n",
       "      <td>128.0</td>\n",
       "      <td>154</td>\n",
       "      <td>Feminino</td>\n",
       "      <td>7</td>\n",
       "      <td>0</td>\n",
       "      <td>Distrito Federal</td>\n",
       "      <td>df</td>\n",
       "      <td>Brasil</td>\n",
       "      <td>38</td>\n",
       "    </tr>\n",
       "  </tbody>\n",
       "</table>\n",
       "</div>"
      ],
      "text/plain": [
       "     id_cliente   peso  colesterol     genero  id_estado  genero_number  \\\n",
       "72          138  203.0         231  Masculino          6              1   \n",
       "126         222  116.0         138   Feminino         15              0   \n",
       "70          100  102.0         115  Masculino          6              1   \n",
       "122         166  120.0         144   Feminino         15              0   \n",
       "174         192  126.0         149   Feminino         13              0   \n",
       "207         208  110.0         127  Masculino          9              1   \n",
       "5           164  133.0         155   Feminino         23              0   \n",
       "158         194  116.0         136   Feminino         21              0   \n",
       "58          136  156.0         195   Feminino         25              0   \n",
       "73          139  141.0         172   Feminino          6              0   \n",
       "142          26  183.0         218   Feminino         10              0   \n",
       "53          170  115.0         132   Feminino          8              0   \n",
       "159         218  104.0         108   Feminino         21              0   \n",
       "18          133  173.0         208  Masculino          7              1   \n",
       "12           49  128.0         154   Feminino          7              0   \n",
       "\n",
       "                estado sigla_estado    pais  idade  \n",
       "72               Ceará           ce  Brasil     39  \n",
       "126            Paraíba           pb  Brasil     38  \n",
       "70               Ceará           ce  Brasil     20  \n",
       "122            Paraíba           pb  Brasil     29  \n",
       "174       Minas Gerais           mg  Brasil     53  \n",
       "207              Goiás           go  Brasil     35  \n",
       "5              Roraima           rr  Brasil     51  \n",
       "158  Rio Grande do Sul           rs  Brasil     35  \n",
       "58           São Paulo           sp  Brasil     59  \n",
       "73               Ceará           ce  Brasil     35  \n",
       "142           Maranhão           ma  Brasil     42  \n",
       "53      Espírito Santo           es  Brasil     22  \n",
       "159  Rio Grande do Sul           rs  Brasil     43  \n",
       "18    Distrito Federal           df  Brasil     69  \n",
       "12    Distrito Federal           df  Brasil     38  "
      ]
     },
     "execution_count": 36,
     "metadata": {},
     "output_type": "execute_result"
    }
   ],
   "source": [
    "#realiza juncao entre clientes e idades\n",
    "\n",
    "base_completa = (\n",
    "    pd\n",
    "    .merge(clientes_estados, idade, on='id_cliente')\n",
    "    .sort_values('id_cliente')\n",
    ")\n",
    "\n",
    "base_completa.sample(15)"
   ]
  },
  {
   "cell_type": "code",
   "execution_count": 37,
   "metadata": {},
   "outputs": [
    {
     "data": {
      "text/html": [
       "<div>\n",
       "<style scoped>\n",
       "    .dataframe tbody tr th:only-of-type {\n",
       "        vertical-align: middle;\n",
       "    }\n",
       "\n",
       "    .dataframe tbody tr th {\n",
       "        vertical-align: top;\n",
       "    }\n",
       "\n",
       "    .dataframe thead th {\n",
       "        text-align: right;\n",
       "    }\n",
       "</style>\n",
       "<table border=\"1\" class=\"dataframe\">\n",
       "  <thead>\n",
       "    <tr style=\"text-align: right;\">\n",
       "      <th></th>\n",
       "      <th>id_cliente</th>\n",
       "      <th>peso</th>\n",
       "      <th>colesterol</th>\n",
       "      <th>genero</th>\n",
       "      <th>id_estado</th>\n",
       "      <th>genero_number</th>\n",
       "      <th>estado</th>\n",
       "      <th>sigla_estado</th>\n",
       "      <th>pais</th>\n",
       "      <th>idade</th>\n",
       "    </tr>\n",
       "  </thead>\n",
       "  <tbody>\n",
       "    <tr>\n",
       "      <th>0</th>\n",
       "      <td>1</td>\n",
       "      <td>102.0</td>\n",
       "      <td>111</td>\n",
       "      <td>Masculino</td>\n",
       "      <td>23</td>\n",
       "      <td>1</td>\n",
       "      <td>Roraima</td>\n",
       "      <td>rr</td>\n",
       "      <td>Brasil</td>\n",
       "      <td>17</td>\n",
       "    </tr>\n",
       "    <tr>\n",
       "      <th>1</th>\n",
       "      <td>2</td>\n",
       "      <td>115.0</td>\n",
       "      <td>135</td>\n",
       "      <td>Masculino</td>\n",
       "      <td>7</td>\n",
       "      <td>1</td>\n",
       "      <td>Distrito Federal</td>\n",
       "      <td>df</td>\n",
       "      <td>Brasil</td>\n",
       "      <td>28</td>\n",
       "    </tr>\n",
       "    <tr>\n",
       "      <th>2</th>\n",
       "      <td>3</td>\n",
       "      <td>115.0</td>\n",
       "      <td>136</td>\n",
       "      <td>Masculino</td>\n",
       "      <td>4</td>\n",
       "      <td>1</td>\n",
       "      <td>Amazonas</td>\n",
       "      <td>am</td>\n",
       "      <td>Brasil</td>\n",
       "      <td>62</td>\n",
       "    </tr>\n",
       "    <tr>\n",
       "      <th>3</th>\n",
       "      <td>4</td>\n",
       "      <td>140.0</td>\n",
       "      <td>167</td>\n",
       "      <td>Feminino</td>\n",
       "      <td>24</td>\n",
       "      <td>0</td>\n",
       "      <td>Santa Catarina</td>\n",
       "      <td>sc</td>\n",
       "      <td>Brasil</td>\n",
       "      <td>55</td>\n",
       "    </tr>\n",
       "    <tr>\n",
       "      <th>4</th>\n",
       "      <td>5</td>\n",
       "      <td>130.0</td>\n",
       "      <td>158</td>\n",
       "      <td>Masculino</td>\n",
       "      <td>26</td>\n",
       "      <td>1</td>\n",
       "      <td>Sergipe</td>\n",
       "      <td>se</td>\n",
       "      <td>Brasil</td>\n",
       "      <td>44</td>\n",
       "    </tr>\n",
       "    <tr>\n",
       "      <th>...</th>\n",
       "      <td>...</td>\n",
       "      <td>...</td>\n",
       "      <td>...</td>\n",
       "      <td>...</td>\n",
       "      <td>...</td>\n",
       "      <td>...</td>\n",
       "      <td>...</td>\n",
       "      <td>...</td>\n",
       "      <td>...</td>\n",
       "      <td>...</td>\n",
       "    </tr>\n",
       "    <tr>\n",
       "      <th>220</th>\n",
       "      <td>221</td>\n",
       "      <td>180.0</td>\n",
       "      <td>219</td>\n",
       "      <td>Masculino</td>\n",
       "      <td>20</td>\n",
       "      <td>1</td>\n",
       "      <td>Rio Grande do Norte</td>\n",
       "      <td>rn</td>\n",
       "      <td>Brasil</td>\n",
       "      <td>33</td>\n",
       "    </tr>\n",
       "    <tr>\n",
       "      <th>221</th>\n",
       "      <td>222</td>\n",
       "      <td>116.0</td>\n",
       "      <td>138</td>\n",
       "      <td>Feminino</td>\n",
       "      <td>15</td>\n",
       "      <td>0</td>\n",
       "      <td>Paraíba</td>\n",
       "      <td>pb</td>\n",
       "      <td>Brasil</td>\n",
       "      <td>38</td>\n",
       "    </tr>\n",
       "    <tr>\n",
       "      <th>222</th>\n",
       "      <td>223</td>\n",
       "      <td>144.0</td>\n",
       "      <td>169</td>\n",
       "      <td>Feminino</td>\n",
       "      <td>18</td>\n",
       "      <td>0</td>\n",
       "      <td>Piauí</td>\n",
       "      <td>pi</td>\n",
       "      <td>Brasil</td>\n",
       "      <td>24</td>\n",
       "    </tr>\n",
       "    <tr>\n",
       "      <th>223</th>\n",
       "      <td>224</td>\n",
       "      <td>102.0</td>\n",
       "      <td>116</td>\n",
       "      <td>Masculino</td>\n",
       "      <td>6</td>\n",
       "      <td>1</td>\n",
       "      <td>Ceará</td>\n",
       "      <td>ce</td>\n",
       "      <td>Brasil</td>\n",
       "      <td>31</td>\n",
       "    </tr>\n",
       "    <tr>\n",
       "      <th>224</th>\n",
       "      <td>225</td>\n",
       "      <td>176.0</td>\n",
       "      <td>212</td>\n",
       "      <td>Masculino</td>\n",
       "      <td>7</td>\n",
       "      <td>1</td>\n",
       "      <td>Distrito Federal</td>\n",
       "      <td>df</td>\n",
       "      <td>Brasil</td>\n",
       "      <td>57</td>\n",
       "    </tr>\n",
       "  </tbody>\n",
       "</table>\n",
       "<p>225 rows × 10 columns</p>\n",
       "</div>"
      ],
      "text/plain": [
       "     id_cliente   peso  colesterol     genero  id_estado  genero_number  \\\n",
       "0             1  102.0         111  Masculino         23              1   \n",
       "1             2  115.0         135  Masculino          7              1   \n",
       "2             3  115.0         136  Masculino          4              1   \n",
       "3             4  140.0         167   Feminino         24              0   \n",
       "4             5  130.0         158  Masculino         26              1   \n",
       "..          ...    ...         ...        ...        ...            ...   \n",
       "220         221  180.0         219  Masculino         20              1   \n",
       "221         222  116.0         138   Feminino         15              0   \n",
       "222         223  144.0         169   Feminino         18              0   \n",
       "223         224  102.0         116  Masculino          6              1   \n",
       "224         225  176.0         212  Masculino          7              1   \n",
       "\n",
       "                  estado sigla_estado    pais  idade  \n",
       "0                Roraima           rr  Brasil     17  \n",
       "1       Distrito Federal           df  Brasil     28  \n",
       "2               Amazonas           am  Brasil     62  \n",
       "3         Santa Catarina           sc  Brasil     55  \n",
       "4                Sergipe           se  Brasil     44  \n",
       "..                   ...          ...     ...    ...  \n",
       "220  Rio Grande do Norte           rn  Brasil     33  \n",
       "221              Paraíba           pb  Brasil     38  \n",
       "222                Piauí           pi  Brasil     24  \n",
       "223                Ceará           ce  Brasil     31  \n",
       "224     Distrito Federal           df  Brasil     57  \n",
       "\n",
       "[225 rows x 10 columns]"
      ]
     },
     "execution_count": 37,
     "metadata": {},
     "output_type": "execute_result"
    }
   ],
   "source": [
    "#deletar o index que esta bagunçado e criar um novo. \n",
    "base_completa.reset_index(drop=True)"
   ]
  },
  {
   "cell_type": "markdown",
   "metadata": {},
   "source": [
    "Organizando a base de dados\n",
    "\n",
    "Podemos realizar varias alterações na base de dados a fim de melhorar o entendimento e disposição das colunas, alem disso podemos fazer transformações nos textos das linhas e colunas"
   ]
  },
  {
   "cell_type": "code",
   "execution_count": 38,
   "metadata": {},
   "outputs": [
    {
     "data": {
      "text/html": [
       "<div>\n",
       "<style scoped>\n",
       "    .dataframe tbody tr th:only-of-type {\n",
       "        vertical-align: middle;\n",
       "    }\n",
       "\n",
       "    .dataframe tbody tr th {\n",
       "        vertical-align: top;\n",
       "    }\n",
       "\n",
       "    .dataframe thead th {\n",
       "        text-align: right;\n",
       "    }\n",
       "</style>\n",
       "<table border=\"1\" class=\"dataframe\">\n",
       "  <thead>\n",
       "    <tr style=\"text-align: right;\">\n",
       "      <th></th>\n",
       "      <th>cod_cliente</th>\n",
       "      <th>peso</th>\n",
       "      <th>colesterol</th>\n",
       "      <th>genero</th>\n",
       "      <th>id_estado</th>\n",
       "      <th>cod_genero</th>\n",
       "      <th>estado</th>\n",
       "      <th>sigla_estado</th>\n",
       "      <th>pais</th>\n",
       "      <th>idade</th>\n",
       "    </tr>\n",
       "  </thead>\n",
       "  <tbody>\n",
       "    <tr>\n",
       "      <th>0</th>\n",
       "      <td>1</td>\n",
       "      <td>102.0</td>\n",
       "      <td>111</td>\n",
       "      <td>Masculino</td>\n",
       "      <td>23</td>\n",
       "      <td>1</td>\n",
       "      <td>Roraima</td>\n",
       "      <td>rr</td>\n",
       "      <td>Brasil</td>\n",
       "      <td>17</td>\n",
       "    </tr>\n",
       "    <tr>\n",
       "      <th>9</th>\n",
       "      <td>2</td>\n",
       "      <td>115.0</td>\n",
       "      <td>135</td>\n",
       "      <td>Masculino</td>\n",
       "      <td>7</td>\n",
       "      <td>1</td>\n",
       "      <td>Distrito Federal</td>\n",
       "      <td>df</td>\n",
       "      <td>Brasil</td>\n",
       "      <td>28</td>\n",
       "    </tr>\n",
       "    <tr>\n",
       "      <th>21</th>\n",
       "      <td>3</td>\n",
       "      <td>115.0</td>\n",
       "      <td>136</td>\n",
       "      <td>Masculino</td>\n",
       "      <td>4</td>\n",
       "      <td>1</td>\n",
       "      <td>Amazonas</td>\n",
       "      <td>am</td>\n",
       "      <td>Brasil</td>\n",
       "      <td>62</td>\n",
       "    </tr>\n",
       "    <tr>\n",
       "      <th>32</th>\n",
       "      <td>4</td>\n",
       "      <td>140.0</td>\n",
       "      <td>167</td>\n",
       "      <td>Feminino</td>\n",
       "      <td>24</td>\n",
       "      <td>0</td>\n",
       "      <td>Santa Catarina</td>\n",
       "      <td>sc</td>\n",
       "      <td>Brasil</td>\n",
       "      <td>55</td>\n",
       "    </tr>\n",
       "    <tr>\n",
       "      <th>39</th>\n",
       "      <td>5</td>\n",
       "      <td>130.0</td>\n",
       "      <td>158</td>\n",
       "      <td>Masculino</td>\n",
       "      <td>26</td>\n",
       "      <td>1</td>\n",
       "      <td>Sergipe</td>\n",
       "      <td>se</td>\n",
       "      <td>Brasil</td>\n",
       "      <td>44</td>\n",
       "    </tr>\n",
       "    <tr>\n",
       "      <th>...</th>\n",
       "      <td>...</td>\n",
       "      <td>...</td>\n",
       "      <td>...</td>\n",
       "      <td>...</td>\n",
       "      <td>...</td>\n",
       "      <td>...</td>\n",
       "      <td>...</td>\n",
       "      <td>...</td>\n",
       "      <td>...</td>\n",
       "      <td>...</td>\n",
       "    </tr>\n",
       "    <tr>\n",
       "      <th>167</th>\n",
       "      <td>221</td>\n",
       "      <td>180.0</td>\n",
       "      <td>219</td>\n",
       "      <td>Masculino</td>\n",
       "      <td>20</td>\n",
       "      <td>1</td>\n",
       "      <td>Rio Grande do Norte</td>\n",
       "      <td>rn</td>\n",
       "      <td>Brasil</td>\n",
       "      <td>33</td>\n",
       "    </tr>\n",
       "    <tr>\n",
       "      <th>126</th>\n",
       "      <td>222</td>\n",
       "      <td>116.0</td>\n",
       "      <td>138</td>\n",
       "      <td>Feminino</td>\n",
       "      <td>15</td>\n",
       "      <td>0</td>\n",
       "      <td>Paraíba</td>\n",
       "      <td>pb</td>\n",
       "      <td>Brasil</td>\n",
       "      <td>38</td>\n",
       "    </tr>\n",
       "    <tr>\n",
       "      <th>196</th>\n",
       "      <td>223</td>\n",
       "      <td>144.0</td>\n",
       "      <td>169</td>\n",
       "      <td>Feminino</td>\n",
       "      <td>18</td>\n",
       "      <td>0</td>\n",
       "      <td>Piauí</td>\n",
       "      <td>pi</td>\n",
       "      <td>Brasil</td>\n",
       "      <td>24</td>\n",
       "    </tr>\n",
       "    <tr>\n",
       "      <th>77</th>\n",
       "      <td>224</td>\n",
       "      <td>102.0</td>\n",
       "      <td>116</td>\n",
       "      <td>Masculino</td>\n",
       "      <td>6</td>\n",
       "      <td>1</td>\n",
       "      <td>Ceará</td>\n",
       "      <td>ce</td>\n",
       "      <td>Brasil</td>\n",
       "      <td>31</td>\n",
       "    </tr>\n",
       "    <tr>\n",
       "      <th>20</th>\n",
       "      <td>225</td>\n",
       "      <td>176.0</td>\n",
       "      <td>212</td>\n",
       "      <td>Masculino</td>\n",
       "      <td>7</td>\n",
       "      <td>1</td>\n",
       "      <td>Distrito Federal</td>\n",
       "      <td>df</td>\n",
       "      <td>Brasil</td>\n",
       "      <td>57</td>\n",
       "    </tr>\n",
       "  </tbody>\n",
       "</table>\n",
       "<p>225 rows × 10 columns</p>\n",
       "</div>"
      ],
      "text/plain": [
       "     cod_cliente   peso  colesterol     genero  id_estado  cod_genero  \\\n",
       "0              1  102.0         111  Masculino         23           1   \n",
       "9              2  115.0         135  Masculino          7           1   \n",
       "21             3  115.0         136  Masculino          4           1   \n",
       "32             4  140.0         167   Feminino         24           0   \n",
       "39             5  130.0         158  Masculino         26           1   \n",
       "..           ...    ...         ...        ...        ...         ...   \n",
       "167          221  180.0         219  Masculino         20           1   \n",
       "126          222  116.0         138   Feminino         15           0   \n",
       "196          223  144.0         169   Feminino         18           0   \n",
       "77           224  102.0         116  Masculino          6           1   \n",
       "20           225  176.0         212  Masculino          7           1   \n",
       "\n",
       "                  estado sigla_estado    pais  idade  \n",
       "0                Roraima           rr  Brasil     17  \n",
       "9       Distrito Federal           df  Brasil     28  \n",
       "21              Amazonas           am  Brasil     62  \n",
       "32        Santa Catarina           sc  Brasil     55  \n",
       "39               Sergipe           se  Brasil     44  \n",
       "..                   ...          ...     ...    ...  \n",
       "167  Rio Grande do Norte           rn  Brasil     33  \n",
       "126              Paraíba           pb  Brasil     38  \n",
       "196                Piauí           pi  Brasil     24  \n",
       "77                 Ceará           ce  Brasil     31  \n",
       "20      Distrito Federal           df  Brasil     57  \n",
       "\n",
       "[225 rows x 10 columns]"
      ]
     },
     "execution_count": 38,
     "metadata": {},
     "output_type": "execute_result"
    }
   ],
   "source": [
    "#alterando o nome das colunas \n",
    "(\n",
    "    base_completa\n",
    "    .rename(columns={\n",
    "        'id_cliente': 'cod_cliente',\n",
    "        'genero_number': 'cod_genero'},\n",
    "        inplace=True)\n",
    ")\n",
    "\n",
    "base_completa"
   ]
  },
  {
   "cell_type": "code",
   "execution_count": 39,
   "metadata": {},
   "outputs": [
    {
     "data": {
      "text/html": [
       "<div>\n",
       "<style scoped>\n",
       "    .dataframe tbody tr th:only-of-type {\n",
       "        vertical-align: middle;\n",
       "    }\n",
       "\n",
       "    .dataframe tbody tr th {\n",
       "        vertical-align: top;\n",
       "    }\n",
       "\n",
       "    .dataframe thead th {\n",
       "        text-align: right;\n",
       "    }\n",
       "</style>\n",
       "<table border=\"1\" class=\"dataframe\">\n",
       "  <thead>\n",
       "    <tr style=\"text-align: right;\">\n",
       "      <th></th>\n",
       "      <th>cod_cliente</th>\n",
       "      <th>peso</th>\n",
       "      <th>colesterol</th>\n",
       "      <th>genero</th>\n",
       "      <th>id_estado</th>\n",
       "      <th>cod_genero</th>\n",
       "      <th>estado</th>\n",
       "      <th>sigla_estado</th>\n",
       "      <th>pais</th>\n",
       "      <th>idade</th>\n",
       "    </tr>\n",
       "  </thead>\n",
       "  <tbody>\n",
       "    <tr>\n",
       "      <th>0</th>\n",
       "      <td>1</td>\n",
       "      <td>102.0</td>\n",
       "      <td>111</td>\n",
       "      <td>Masculino</td>\n",
       "      <td>23</td>\n",
       "      <td>1</td>\n",
       "      <td>Roraima</td>\n",
       "      <td>RR</td>\n",
       "      <td>Brasil</td>\n",
       "      <td>17</td>\n",
       "    </tr>\n",
       "    <tr>\n",
       "      <th>9</th>\n",
       "      <td>2</td>\n",
       "      <td>115.0</td>\n",
       "      <td>135</td>\n",
       "      <td>Masculino</td>\n",
       "      <td>7</td>\n",
       "      <td>1</td>\n",
       "      <td>Distrito Federal</td>\n",
       "      <td>DF</td>\n",
       "      <td>Brasil</td>\n",
       "      <td>28</td>\n",
       "    </tr>\n",
       "    <tr>\n",
       "      <th>21</th>\n",
       "      <td>3</td>\n",
       "      <td>115.0</td>\n",
       "      <td>136</td>\n",
       "      <td>Masculino</td>\n",
       "      <td>4</td>\n",
       "      <td>1</td>\n",
       "      <td>Amazonas</td>\n",
       "      <td>AM</td>\n",
       "      <td>Brasil</td>\n",
       "      <td>62</td>\n",
       "    </tr>\n",
       "    <tr>\n",
       "      <th>32</th>\n",
       "      <td>4</td>\n",
       "      <td>140.0</td>\n",
       "      <td>167</td>\n",
       "      <td>Feminino</td>\n",
       "      <td>24</td>\n",
       "      <td>0</td>\n",
       "      <td>Santa Catarina</td>\n",
       "      <td>SC</td>\n",
       "      <td>Brasil</td>\n",
       "      <td>55</td>\n",
       "    </tr>\n",
       "    <tr>\n",
       "      <th>39</th>\n",
       "      <td>5</td>\n",
       "      <td>130.0</td>\n",
       "      <td>158</td>\n",
       "      <td>Masculino</td>\n",
       "      <td>26</td>\n",
       "      <td>1</td>\n",
       "      <td>Sergipe</td>\n",
       "      <td>SE</td>\n",
       "      <td>Brasil</td>\n",
       "      <td>44</td>\n",
       "    </tr>\n",
       "    <tr>\n",
       "      <th>...</th>\n",
       "      <td>...</td>\n",
       "      <td>...</td>\n",
       "      <td>...</td>\n",
       "      <td>...</td>\n",
       "      <td>...</td>\n",
       "      <td>...</td>\n",
       "      <td>...</td>\n",
       "      <td>...</td>\n",
       "      <td>...</td>\n",
       "      <td>...</td>\n",
       "    </tr>\n",
       "    <tr>\n",
       "      <th>167</th>\n",
       "      <td>221</td>\n",
       "      <td>180.0</td>\n",
       "      <td>219</td>\n",
       "      <td>Masculino</td>\n",
       "      <td>20</td>\n",
       "      <td>1</td>\n",
       "      <td>Rio Grande do Norte</td>\n",
       "      <td>RN</td>\n",
       "      <td>Brasil</td>\n",
       "      <td>33</td>\n",
       "    </tr>\n",
       "    <tr>\n",
       "      <th>126</th>\n",
       "      <td>222</td>\n",
       "      <td>116.0</td>\n",
       "      <td>138</td>\n",
       "      <td>Feminino</td>\n",
       "      <td>15</td>\n",
       "      <td>0</td>\n",
       "      <td>Paraíba</td>\n",
       "      <td>PB</td>\n",
       "      <td>Brasil</td>\n",
       "      <td>38</td>\n",
       "    </tr>\n",
       "    <tr>\n",
       "      <th>196</th>\n",
       "      <td>223</td>\n",
       "      <td>144.0</td>\n",
       "      <td>169</td>\n",
       "      <td>Feminino</td>\n",
       "      <td>18</td>\n",
       "      <td>0</td>\n",
       "      <td>Piauí</td>\n",
       "      <td>PI</td>\n",
       "      <td>Brasil</td>\n",
       "      <td>24</td>\n",
       "    </tr>\n",
       "    <tr>\n",
       "      <th>77</th>\n",
       "      <td>224</td>\n",
       "      <td>102.0</td>\n",
       "      <td>116</td>\n",
       "      <td>Masculino</td>\n",
       "      <td>6</td>\n",
       "      <td>1</td>\n",
       "      <td>Ceará</td>\n",
       "      <td>CE</td>\n",
       "      <td>Brasil</td>\n",
       "      <td>31</td>\n",
       "    </tr>\n",
       "    <tr>\n",
       "      <th>20</th>\n",
       "      <td>225</td>\n",
       "      <td>176.0</td>\n",
       "      <td>212</td>\n",
       "      <td>Masculino</td>\n",
       "      <td>7</td>\n",
       "      <td>1</td>\n",
       "      <td>Distrito Federal</td>\n",
       "      <td>DF</td>\n",
       "      <td>Brasil</td>\n",
       "      <td>57</td>\n",
       "    </tr>\n",
       "  </tbody>\n",
       "</table>\n",
       "<p>225 rows × 10 columns</p>\n",
       "</div>"
      ],
      "text/plain": [
       "     cod_cliente   peso  colesterol     genero  id_estado  cod_genero  \\\n",
       "0              1  102.0         111  Masculino         23           1   \n",
       "9              2  115.0         135  Masculino          7           1   \n",
       "21             3  115.0         136  Masculino          4           1   \n",
       "32             4  140.0         167   Feminino         24           0   \n",
       "39             5  130.0         158  Masculino         26           1   \n",
       "..           ...    ...         ...        ...        ...         ...   \n",
       "167          221  180.0         219  Masculino         20           1   \n",
       "126          222  116.0         138   Feminino         15           0   \n",
       "196          223  144.0         169   Feminino         18           0   \n",
       "77           224  102.0         116  Masculino          6           1   \n",
       "20           225  176.0         212  Masculino          7           1   \n",
       "\n",
       "                  estado sigla_estado    pais  idade  \n",
       "0                Roraima           RR  Brasil     17  \n",
       "9       Distrito Federal           DF  Brasil     28  \n",
       "21              Amazonas           AM  Brasil     62  \n",
       "32        Santa Catarina           SC  Brasil     55  \n",
       "39               Sergipe           SE  Brasil     44  \n",
       "..                   ...          ...     ...    ...  \n",
       "167  Rio Grande do Norte           RN  Brasil     33  \n",
       "126              Paraíba           PB  Brasil     38  \n",
       "196                Piauí           PI  Brasil     24  \n",
       "77                 Ceará           CE  Brasil     31  \n",
       "20      Distrito Federal           DF  Brasil     57  \n",
       "\n",
       "[225 rows x 10 columns]"
      ]
     },
     "execution_count": 39,
     "metadata": {},
     "output_type": "execute_result"
    }
   ],
   "source": [
    "#alterando as linhas da variavel sigla_estado para miusculas\n",
    "base_completa['sigla_estado'] = (\n",
    "    base_completa\n",
    "    .sigla_estado\n",
    "    .str\n",
    "    .upper()\n",
    ")\n",
    "\n",
    "base_completa"
   ]
  },
  {
   "cell_type": "markdown",
   "metadata": {},
   "source": [
    "Alterando a disposição das colunas do arquivo de dados\n",
    "\n",
    "Vamos alterar as disposições das colunas no nosso conjunto de dados a fim de facilitar a visualização "
   ]
  },
  {
   "cell_type": "code",
   "execution_count": 40,
   "metadata": {},
   "outputs": [
    {
     "data": {
      "text/html": [
       "<div>\n",
       "<style scoped>\n",
       "    .dataframe tbody tr th:only-of-type {\n",
       "        vertical-align: middle;\n",
       "    }\n",
       "\n",
       "    .dataframe tbody tr th {\n",
       "        vertical-align: top;\n",
       "    }\n",
       "\n",
       "    .dataframe thead th {\n",
       "        text-align: right;\n",
       "    }\n",
       "</style>\n",
       "<table border=\"1\" class=\"dataframe\">\n",
       "  <thead>\n",
       "    <tr style=\"text-align: right;\">\n",
       "      <th></th>\n",
       "      <th>cod_cliente</th>\n",
       "      <th>genero</th>\n",
       "      <th>idade</th>\n",
       "      <th>peso</th>\n",
       "      <th>colesterol</th>\n",
       "      <th>id_estado</th>\n",
       "      <th>estado</th>\n",
       "      <th>cod_genero</th>\n",
       "      <th>sigla_estado</th>\n",
       "      <th>pais</th>\n",
       "    </tr>\n",
       "  </thead>\n",
       "  <tbody>\n",
       "    <tr>\n",
       "      <th>0</th>\n",
       "      <td>1</td>\n",
       "      <td>Masculino</td>\n",
       "      <td>17</td>\n",
       "      <td>102.0</td>\n",
       "      <td>111</td>\n",
       "      <td>23</td>\n",
       "      <td>Roraima</td>\n",
       "      <td>1</td>\n",
       "      <td>RR</td>\n",
       "      <td>Brasil</td>\n",
       "    </tr>\n",
       "    <tr>\n",
       "      <th>9</th>\n",
       "      <td>2</td>\n",
       "      <td>Masculino</td>\n",
       "      <td>28</td>\n",
       "      <td>115.0</td>\n",
       "      <td>135</td>\n",
       "      <td>7</td>\n",
       "      <td>Distrito Federal</td>\n",
       "      <td>1</td>\n",
       "      <td>DF</td>\n",
       "      <td>Brasil</td>\n",
       "    </tr>\n",
       "    <tr>\n",
       "      <th>21</th>\n",
       "      <td>3</td>\n",
       "      <td>Masculino</td>\n",
       "      <td>62</td>\n",
       "      <td>115.0</td>\n",
       "      <td>136</td>\n",
       "      <td>4</td>\n",
       "      <td>Amazonas</td>\n",
       "      <td>1</td>\n",
       "      <td>AM</td>\n",
       "      <td>Brasil</td>\n",
       "    </tr>\n",
       "    <tr>\n",
       "      <th>32</th>\n",
       "      <td>4</td>\n",
       "      <td>Feminino</td>\n",
       "      <td>55</td>\n",
       "      <td>140.0</td>\n",
       "      <td>167</td>\n",
       "      <td>24</td>\n",
       "      <td>Santa Catarina</td>\n",
       "      <td>0</td>\n",
       "      <td>SC</td>\n",
       "      <td>Brasil</td>\n",
       "    </tr>\n",
       "    <tr>\n",
       "      <th>39</th>\n",
       "      <td>5</td>\n",
       "      <td>Masculino</td>\n",
       "      <td>44</td>\n",
       "      <td>130.0</td>\n",
       "      <td>158</td>\n",
       "      <td>26</td>\n",
       "      <td>Sergipe</td>\n",
       "      <td>1</td>\n",
       "      <td>SE</td>\n",
       "      <td>Brasil</td>\n",
       "    </tr>\n",
       "    <tr>\n",
       "      <th>...</th>\n",
       "      <td>...</td>\n",
       "      <td>...</td>\n",
       "      <td>...</td>\n",
       "      <td>...</td>\n",
       "      <td>...</td>\n",
       "      <td>...</td>\n",
       "      <td>...</td>\n",
       "      <td>...</td>\n",
       "      <td>...</td>\n",
       "      <td>...</td>\n",
       "    </tr>\n",
       "    <tr>\n",
       "      <th>167</th>\n",
       "      <td>221</td>\n",
       "      <td>Masculino</td>\n",
       "      <td>33</td>\n",
       "      <td>180.0</td>\n",
       "      <td>219</td>\n",
       "      <td>20</td>\n",
       "      <td>Rio Grande do Norte</td>\n",
       "      <td>1</td>\n",
       "      <td>RN</td>\n",
       "      <td>Brasil</td>\n",
       "    </tr>\n",
       "    <tr>\n",
       "      <th>126</th>\n",
       "      <td>222</td>\n",
       "      <td>Feminino</td>\n",
       "      <td>38</td>\n",
       "      <td>116.0</td>\n",
       "      <td>138</td>\n",
       "      <td>15</td>\n",
       "      <td>Paraíba</td>\n",
       "      <td>0</td>\n",
       "      <td>PB</td>\n",
       "      <td>Brasil</td>\n",
       "    </tr>\n",
       "    <tr>\n",
       "      <th>196</th>\n",
       "      <td>223</td>\n",
       "      <td>Feminino</td>\n",
       "      <td>24</td>\n",
       "      <td>144.0</td>\n",
       "      <td>169</td>\n",
       "      <td>18</td>\n",
       "      <td>Piauí</td>\n",
       "      <td>0</td>\n",
       "      <td>PI</td>\n",
       "      <td>Brasil</td>\n",
       "    </tr>\n",
       "    <tr>\n",
       "      <th>77</th>\n",
       "      <td>224</td>\n",
       "      <td>Masculino</td>\n",
       "      <td>31</td>\n",
       "      <td>102.0</td>\n",
       "      <td>116</td>\n",
       "      <td>6</td>\n",
       "      <td>Ceará</td>\n",
       "      <td>1</td>\n",
       "      <td>CE</td>\n",
       "      <td>Brasil</td>\n",
       "    </tr>\n",
       "    <tr>\n",
       "      <th>20</th>\n",
       "      <td>225</td>\n",
       "      <td>Masculino</td>\n",
       "      <td>57</td>\n",
       "      <td>176.0</td>\n",
       "      <td>212</td>\n",
       "      <td>7</td>\n",
       "      <td>Distrito Federal</td>\n",
       "      <td>1</td>\n",
       "      <td>DF</td>\n",
       "      <td>Brasil</td>\n",
       "    </tr>\n",
       "  </tbody>\n",
       "</table>\n",
       "<p>225 rows × 10 columns</p>\n",
       "</div>"
      ],
      "text/plain": [
       "     cod_cliente     genero  idade   peso  colesterol  id_estado  \\\n",
       "0              1  Masculino     17  102.0         111         23   \n",
       "9              2  Masculino     28  115.0         135          7   \n",
       "21             3  Masculino     62  115.0         136          4   \n",
       "32             4   Feminino     55  140.0         167         24   \n",
       "39             5  Masculino     44  130.0         158         26   \n",
       "..           ...        ...    ...    ...         ...        ...   \n",
       "167          221  Masculino     33  180.0         219         20   \n",
       "126          222   Feminino     38  116.0         138         15   \n",
       "196          223   Feminino     24  144.0         169         18   \n",
       "77           224  Masculino     31  102.0         116          6   \n",
       "20           225  Masculino     57  176.0         212          7   \n",
       "\n",
       "                  estado  cod_genero sigla_estado    pais  \n",
       "0                Roraima           1           RR  Brasil  \n",
       "9       Distrito Federal           1           DF  Brasil  \n",
       "21              Amazonas           1           AM  Brasil  \n",
       "32        Santa Catarina           0           SC  Brasil  \n",
       "39               Sergipe           1           SE  Brasil  \n",
       "..                   ...         ...          ...     ...  \n",
       "167  Rio Grande do Norte           1           RN  Brasil  \n",
       "126              Paraíba           0           PB  Brasil  \n",
       "196                Piauí           0           PI  Brasil  \n",
       "77                 Ceará           1           CE  Brasil  \n",
       "20      Distrito Federal           1           DF  Brasil  \n",
       "\n",
       "[225 rows x 10 columns]"
      ]
     },
     "execution_count": 40,
     "metadata": {},
     "output_type": "execute_result"
    }
   ],
   "source": [
    "base_completa = base_completa[['cod_cliente','genero','idade', 'peso', 'colesterol', 'id_estado',\n",
    "       'estado','cod_genero' , 'sigla_estado', 'pais']]\n",
    "\n",
    "base_completa"
   ]
  },
  {
   "cell_type": "markdown",
   "metadata": {},
   "source": [
    "analise dos dados\n",
    "\n",
    "é a etapa onde selecionamos os algoritmos de machine learning que serão inseridos para alcançar o resultado,\n",
    "levando em consideração o conjunto de dados obtidos na etapa anterior.\n",
    "Para esse trabalho, vamos realizar um agrupamento de pessoas baseados no colesterol, peso e idade das pessoas"
   ]
  },
  {
   "cell_type": "markdown",
   "metadata": {},
   "source": [
    "Aplicando Metodo cotovelo\n",
    "Vamos iniciar visualizando, identificando o numero de clusters necessarios para realizar o agrupamento"
   ]
  },
  {
   "cell_type": "code",
   "execution_count": 41,
   "metadata": {},
   "outputs": [],
   "source": [
    "def calcular_wcss(dados_cliente):\n",
    "    wcss = []\n",
    "    for k in range(1,11):\n",
    "        kmeans = KMeans(n_clusters= k)\n",
    "        kmeans.fit(X=dados_cliente)\n",
    "        wcss.append(kmeans.inertia_)\n",
    "    \n",
    "    return wcss\n"
   ]
  },
  {
   "cell_type": "code",
   "execution_count": 42,
   "metadata": {},
   "outputs": [
    {
     "data": {
      "text/html": [
       "<div>\n",
       "<style scoped>\n",
       "    .dataframe tbody tr th:only-of-type {\n",
       "        vertical-align: middle;\n",
       "    }\n",
       "\n",
       "    .dataframe tbody tr th {\n",
       "        vertical-align: top;\n",
       "    }\n",
       "\n",
       "    .dataframe thead th {\n",
       "        text-align: right;\n",
       "    }\n",
       "</style>\n",
       "<table border=\"1\" class=\"dataframe\">\n",
       "  <thead>\n",
       "    <tr style=\"text-align: right;\">\n",
       "      <th></th>\n",
       "      <th>peso</th>\n",
       "      <th>colesterol</th>\n",
       "      <th>idade</th>\n",
       "    </tr>\n",
       "  </thead>\n",
       "  <tbody>\n",
       "    <tr>\n",
       "      <th>0</th>\n",
       "      <td>102.0</td>\n",
       "      <td>111</td>\n",
       "      <td>17</td>\n",
       "    </tr>\n",
       "    <tr>\n",
       "      <th>9</th>\n",
       "      <td>115.0</td>\n",
       "      <td>135</td>\n",
       "      <td>28</td>\n",
       "    </tr>\n",
       "    <tr>\n",
       "      <th>21</th>\n",
       "      <td>115.0</td>\n",
       "      <td>136</td>\n",
       "      <td>62</td>\n",
       "    </tr>\n",
       "    <tr>\n",
       "      <th>32</th>\n",
       "      <td>140.0</td>\n",
       "      <td>167</td>\n",
       "      <td>55</td>\n",
       "    </tr>\n",
       "    <tr>\n",
       "      <th>39</th>\n",
       "      <td>130.0</td>\n",
       "      <td>158</td>\n",
       "      <td>44</td>\n",
       "    </tr>\n",
       "    <tr>\n",
       "      <th>47</th>\n",
       "      <td>198.0</td>\n",
       "      <td>227</td>\n",
       "      <td>17</td>\n",
       "    </tr>\n",
       "    <tr>\n",
       "      <th>40</th>\n",
       "      <td>114.0</td>\n",
       "      <td>131</td>\n",
       "      <td>30</td>\n",
       "    </tr>\n",
       "    <tr>\n",
       "      <th>56</th>\n",
       "      <td>145.0</td>\n",
       "      <td>176</td>\n",
       "      <td>30</td>\n",
       "    </tr>\n",
       "    <tr>\n",
       "      <th>61</th>\n",
       "      <td>191.0</td>\n",
       "      <td>223</td>\n",
       "      <td>34</td>\n",
       "    </tr>\n",
       "    <tr>\n",
       "      <th>66</th>\n",
       "      <td>186.0</td>\n",
       "      <td>221</td>\n",
       "      <td>55</td>\n",
       "    </tr>\n",
       "  </tbody>\n",
       "</table>\n",
       "</div>"
      ],
      "text/plain": [
       "     peso  colesterol  idade\n",
       "0   102.0         111     17\n",
       "9   115.0         135     28\n",
       "21  115.0         136     62\n",
       "32  140.0         167     55\n",
       "39  130.0         158     44\n",
       "47  198.0         227     17\n",
       "40  114.0         131     30\n",
       "56  145.0         176     30\n",
       "61  191.0         223     34\n",
       "66  186.0         221     55"
      ]
     },
     "execution_count": 42,
     "metadata": {},
     "output_type": "execute_result"
    }
   ],
   "source": [
    "dados_cliente = base_completa[['peso','colesterol','idade']]\n",
    "dados_cliente.head(10)"
   ]
  },
  {
   "cell_type": "code",
   "execution_count": 43,
   "metadata": {},
   "outputs": [
    {
     "name": "stderr",
     "output_type": "stream",
     "text": [
      "d:\\caiof\\Programs\\anaconda3\\lib\\site-packages\\sklearn\\cluster\\_kmeans.py:870: FutureWarning:\n",
      "\n",
      "The default value of `n_init` will change from 10 to 'auto' in 1.4. Set the value of `n_init` explicitly to suppress the warning\n",
      "\n"
     ]
    },
    {
     "name": "stderr",
     "output_type": "stream",
     "text": [
      "d:\\caiof\\Programs\\anaconda3\\lib\\site-packages\\sklearn\\cluster\\_kmeans.py:1382: UserWarning:\n",
      "\n",
      "KMeans is known to have a memory leak on Windows with MKL, when there are less chunks than available threads. You can avoid it by setting the environment variable OMP_NUM_THREADS=1.\n",
      "\n",
      "d:\\caiof\\Programs\\anaconda3\\lib\\site-packages\\sklearn\\cluster\\_kmeans.py:870: FutureWarning:\n",
      "\n",
      "The default value of `n_init` will change from 10 to 'auto' in 1.4. Set the value of `n_init` explicitly to suppress the warning\n",
      "\n",
      "d:\\caiof\\Programs\\anaconda3\\lib\\site-packages\\sklearn\\cluster\\_kmeans.py:1382: UserWarning:\n",
      "\n",
      "KMeans is known to have a memory leak on Windows with MKL, when there are less chunks than available threads. You can avoid it by setting the environment variable OMP_NUM_THREADS=1.\n",
      "\n",
      "d:\\caiof\\Programs\\anaconda3\\lib\\site-packages\\sklearn\\cluster\\_kmeans.py:870: FutureWarning:\n",
      "\n",
      "The default value of `n_init` will change from 10 to 'auto' in 1.4. Set the value of `n_init` explicitly to suppress the warning\n",
      "\n",
      "d:\\caiof\\Programs\\anaconda3\\lib\\site-packages\\sklearn\\cluster\\_kmeans.py:1382: UserWarning:\n",
      "\n",
      "KMeans is known to have a memory leak on Windows with MKL, when there are less chunks than available threads. You can avoid it by setting the environment variable OMP_NUM_THREADS=1.\n",
      "\n",
      "d:\\caiof\\Programs\\anaconda3\\lib\\site-packages\\sklearn\\cluster\\_kmeans.py:870: FutureWarning:\n",
      "\n",
      "The default value of `n_init` will change from 10 to 'auto' in 1.4. Set the value of `n_init` explicitly to suppress the warning\n",
      "\n",
      "d:\\caiof\\Programs\\anaconda3\\lib\\site-packages\\sklearn\\cluster\\_kmeans.py:1382: UserWarning:\n",
      "\n",
      "KMeans is known to have a memory leak on Windows with MKL, when there are less chunks than available threads. You can avoid it by setting the environment variable OMP_NUM_THREADS=1.\n",
      "\n",
      "d:\\caiof\\Programs\\anaconda3\\lib\\site-packages\\sklearn\\cluster\\_kmeans.py:870: FutureWarning:\n",
      "\n",
      "The default value of `n_init` will change from 10 to 'auto' in 1.4. Set the value of `n_init` explicitly to suppress the warning\n",
      "\n",
      "d:\\caiof\\Programs\\anaconda3\\lib\\site-packages\\sklearn\\cluster\\_kmeans.py:1382: UserWarning:\n",
      "\n",
      "KMeans is known to have a memory leak on Windows with MKL, when there are less chunks than available threads. You can avoid it by setting the environment variable OMP_NUM_THREADS=1.\n",
      "\n",
      "d:\\caiof\\Programs\\anaconda3\\lib\\site-packages\\sklearn\\cluster\\_kmeans.py:870: FutureWarning:\n",
      "\n",
      "The default value of `n_init` will change from 10 to 'auto' in 1.4. Set the value of `n_init` explicitly to suppress the warning\n",
      "\n",
      "d:\\caiof\\Programs\\anaconda3\\lib\\site-packages\\sklearn\\cluster\\_kmeans.py:1382: UserWarning:\n",
      "\n",
      "KMeans is known to have a memory leak on Windows with MKL, when there are less chunks than available threads. You can avoid it by setting the environment variable OMP_NUM_THREADS=1.\n",
      "\n",
      "d:\\caiof\\Programs\\anaconda3\\lib\\site-packages\\sklearn\\cluster\\_kmeans.py:870: FutureWarning:\n",
      "\n",
      "The default value of `n_init` will change from 10 to 'auto' in 1.4. Set the value of `n_init` explicitly to suppress the warning\n",
      "\n",
      "d:\\caiof\\Programs\\anaconda3\\lib\\site-packages\\sklearn\\cluster\\_kmeans.py:1382: UserWarning:\n",
      "\n",
      "KMeans is known to have a memory leak on Windows with MKL, when there are less chunks than available threads. You can avoid it by setting the environment variable OMP_NUM_THREADS=1.\n",
      "\n",
      "d:\\caiof\\Programs\\anaconda3\\lib\\site-packages\\sklearn\\cluster\\_kmeans.py:870: FutureWarning:\n",
      "\n",
      "The default value of `n_init` will change from 10 to 'auto' in 1.4. Set the value of `n_init` explicitly to suppress the warning\n",
      "\n",
      "d:\\caiof\\Programs\\anaconda3\\lib\\site-packages\\sklearn\\cluster\\_kmeans.py:1382: UserWarning:\n",
      "\n",
      "KMeans is known to have a memory leak on Windows with MKL, when there are less chunks than available threads. You can avoid it by setting the environment variable OMP_NUM_THREADS=1.\n",
      "\n",
      "d:\\caiof\\Programs\\anaconda3\\lib\\site-packages\\sklearn\\cluster\\_kmeans.py:870: FutureWarning:\n",
      "\n",
      "The default value of `n_init` will change from 10 to 'auto' in 1.4. Set the value of `n_init` explicitly to suppress the warning\n",
      "\n",
      "d:\\caiof\\Programs\\anaconda3\\lib\\site-packages\\sklearn\\cluster\\_kmeans.py:1382: UserWarning:\n",
      "\n",
      "KMeans is known to have a memory leak on Windows with MKL, when there are less chunks than available threads. You can avoid it by setting the environment variable OMP_NUM_THREADS=1.\n",
      "\n",
      "d:\\caiof\\Programs\\anaconda3\\lib\\site-packages\\sklearn\\cluster\\_kmeans.py:870: FutureWarning:\n",
      "\n",
      "The default value of `n_init` will change from 10 to 'auto' in 1.4. Set the value of `n_init` explicitly to suppress the warning\n",
      "\n",
      "d:\\caiof\\Programs\\anaconda3\\lib\\site-packages\\sklearn\\cluster\\_kmeans.py:1382: UserWarning:\n",
      "\n",
      "KMeans is known to have a memory leak on Windows with MKL, when there are less chunks than available threads. You can avoid it by setting the environment variable OMP_NUM_THREADS=1.\n",
      "\n"
     ]
    }
   ],
   "source": [
    "wcss_clientes = calcular_wcss(dados_cliente)"
   ]
  },
  {
   "cell_type": "code",
   "execution_count": 44,
   "metadata": {},
   "outputs": [
    {
     "name": "stdout",
     "output_type": "stream",
     "text": [
      "o cluster 0 possui valor de WCSS de: 615755.6435484445\n",
      "o cluster 1 possui valor de WCSS de: 189212.54409773237\n",
      "o cluster 2 possui valor de WCSS de: 110985.62659521376\n",
      "o cluster 3 possui valor de WCSS de: 85993.49644839711\n",
      "o cluster 4 possui valor de WCSS de: 72520.63211401357\n",
      "o cluster 5 possui valor de WCSS de: 60540.005805249835\n",
      "o cluster 6 possui valor de WCSS de: 49320.43946765289\n",
      "o cluster 7 possui valor de WCSS de: 42303.92724010217\n",
      "o cluster 8 possui valor de WCSS de: 36760.120541248536\n",
      "o cluster 9 possui valor de WCSS de: 31550.508328678494\n"
     ]
    }
   ],
   "source": [
    "#visualizar os dados obtidos do wcss\n",
    "for i in range(len(wcss_clientes)):\n",
    "    print(f'o cluster {i} possui valor de WCSS de: {wcss_clientes[i]}')"
   ]
  },
  {
   "cell_type": "markdown",
   "metadata": {},
   "source": [
    "Visualizando o grafico cotovelo"
   ]
  },
  {
   "cell_type": "code",
   "execution_count": 45,
   "metadata": {},
   "outputs": [
    {
     "data": {
      "application/vnd.plotly.v1+json": {
       "config": {
        "plotlyServerURL": "https://plot.ly"
       },
       "data": [
        {
         "hovertemplate": "x=%{x}<br>y=%{y}<extra></extra>",
         "legendgroup": "",
         "line": {
          "color": "#636efa",
          "dash": "solid"
         },
         "marker": {
          "symbol": "circle"
         },
         "mode": "lines",
         "name": "",
         "orientation": "v",
         "showlegend": false,
         "type": "scatter",
         "x": [
          1,
          2,
          3,
          4,
          5,
          6,
          7,
          8,
          9,
          10
         ],
         "xaxis": "x",
         "y": [
          615755.6435484445,
          189212.54409773237,
          110985.62659521376,
          85993.49644839711,
          72520.63211401357,
          60540.005805249835,
          49320.43946765289,
          42303.92724010217,
          36760.120541248536,
          31550.508328678494
         ],
         "yaxis": "y"
        }
       ],
       "layout": {
        "legend": {
         "tracegroupgap": 0
        },
        "margin": {
         "t": 60
        },
        "template": {
         "data": {
          "bar": [
           {
            "error_x": {
             "color": "#2a3f5f"
            },
            "error_y": {
             "color": "#2a3f5f"
            },
            "marker": {
             "line": {
              "color": "white",
              "width": 0.5
             },
             "pattern": {
              "fillmode": "overlay",
              "size": 10,
              "solidity": 0.2
             }
            },
            "type": "bar"
           }
          ],
          "barpolar": [
           {
            "marker": {
             "line": {
              "color": "white",
              "width": 0.5
             },
             "pattern": {
              "fillmode": "overlay",
              "size": 10,
              "solidity": 0.2
             }
            },
            "type": "barpolar"
           }
          ],
          "carpet": [
           {
            "aaxis": {
             "endlinecolor": "#2a3f5f",
             "gridcolor": "#C8D4E3",
             "linecolor": "#C8D4E3",
             "minorgridcolor": "#C8D4E3",
             "startlinecolor": "#2a3f5f"
            },
            "baxis": {
             "endlinecolor": "#2a3f5f",
             "gridcolor": "#C8D4E3",
             "linecolor": "#C8D4E3",
             "minorgridcolor": "#C8D4E3",
             "startlinecolor": "#2a3f5f"
            },
            "type": "carpet"
           }
          ],
          "choropleth": [
           {
            "colorbar": {
             "outlinewidth": 0,
             "ticks": ""
            },
            "type": "choropleth"
           }
          ],
          "contour": [
           {
            "colorbar": {
             "outlinewidth": 0,
             "ticks": ""
            },
            "colorscale": [
             [
              0,
              "#0d0887"
             ],
             [
              0.1111111111111111,
              "#46039f"
             ],
             [
              0.2222222222222222,
              "#7201a8"
             ],
             [
              0.3333333333333333,
              "#9c179e"
             ],
             [
              0.4444444444444444,
              "#bd3786"
             ],
             [
              0.5555555555555556,
              "#d8576b"
             ],
             [
              0.6666666666666666,
              "#ed7953"
             ],
             [
              0.7777777777777778,
              "#fb9f3a"
             ],
             [
              0.8888888888888888,
              "#fdca26"
             ],
             [
              1,
              "#f0f921"
             ]
            ],
            "type": "contour"
           }
          ],
          "contourcarpet": [
           {
            "colorbar": {
             "outlinewidth": 0,
             "ticks": ""
            },
            "type": "contourcarpet"
           }
          ],
          "heatmap": [
           {
            "colorbar": {
             "outlinewidth": 0,
             "ticks": ""
            },
            "colorscale": [
             [
              0,
              "#0d0887"
             ],
             [
              0.1111111111111111,
              "#46039f"
             ],
             [
              0.2222222222222222,
              "#7201a8"
             ],
             [
              0.3333333333333333,
              "#9c179e"
             ],
             [
              0.4444444444444444,
              "#bd3786"
             ],
             [
              0.5555555555555556,
              "#d8576b"
             ],
             [
              0.6666666666666666,
              "#ed7953"
             ],
             [
              0.7777777777777778,
              "#fb9f3a"
             ],
             [
              0.8888888888888888,
              "#fdca26"
             ],
             [
              1,
              "#f0f921"
             ]
            ],
            "type": "heatmap"
           }
          ],
          "heatmapgl": [
           {
            "colorbar": {
             "outlinewidth": 0,
             "ticks": ""
            },
            "colorscale": [
             [
              0,
              "#0d0887"
             ],
             [
              0.1111111111111111,
              "#46039f"
             ],
             [
              0.2222222222222222,
              "#7201a8"
             ],
             [
              0.3333333333333333,
              "#9c179e"
             ],
             [
              0.4444444444444444,
              "#bd3786"
             ],
             [
              0.5555555555555556,
              "#d8576b"
             ],
             [
              0.6666666666666666,
              "#ed7953"
             ],
             [
              0.7777777777777778,
              "#fb9f3a"
             ],
             [
              0.8888888888888888,
              "#fdca26"
             ],
             [
              1,
              "#f0f921"
             ]
            ],
            "type": "heatmapgl"
           }
          ],
          "histogram": [
           {
            "marker": {
             "pattern": {
              "fillmode": "overlay",
              "size": 10,
              "solidity": 0.2
             }
            },
            "type": "histogram"
           }
          ],
          "histogram2d": [
           {
            "colorbar": {
             "outlinewidth": 0,
             "ticks": ""
            },
            "colorscale": [
             [
              0,
              "#0d0887"
             ],
             [
              0.1111111111111111,
              "#46039f"
             ],
             [
              0.2222222222222222,
              "#7201a8"
             ],
             [
              0.3333333333333333,
              "#9c179e"
             ],
             [
              0.4444444444444444,
              "#bd3786"
             ],
             [
              0.5555555555555556,
              "#d8576b"
             ],
             [
              0.6666666666666666,
              "#ed7953"
             ],
             [
              0.7777777777777778,
              "#fb9f3a"
             ],
             [
              0.8888888888888888,
              "#fdca26"
             ],
             [
              1,
              "#f0f921"
             ]
            ],
            "type": "histogram2d"
           }
          ],
          "histogram2dcontour": [
           {
            "colorbar": {
             "outlinewidth": 0,
             "ticks": ""
            },
            "colorscale": [
             [
              0,
              "#0d0887"
             ],
             [
              0.1111111111111111,
              "#46039f"
             ],
             [
              0.2222222222222222,
              "#7201a8"
             ],
             [
              0.3333333333333333,
              "#9c179e"
             ],
             [
              0.4444444444444444,
              "#bd3786"
             ],
             [
              0.5555555555555556,
              "#d8576b"
             ],
             [
              0.6666666666666666,
              "#ed7953"
             ],
             [
              0.7777777777777778,
              "#fb9f3a"
             ],
             [
              0.8888888888888888,
              "#fdca26"
             ],
             [
              1,
              "#f0f921"
             ]
            ],
            "type": "histogram2dcontour"
           }
          ],
          "mesh3d": [
           {
            "colorbar": {
             "outlinewidth": 0,
             "ticks": ""
            },
            "type": "mesh3d"
           }
          ],
          "parcoords": [
           {
            "line": {
             "colorbar": {
              "outlinewidth": 0,
              "ticks": ""
             }
            },
            "type": "parcoords"
           }
          ],
          "pie": [
           {
            "automargin": true,
            "type": "pie"
           }
          ],
          "scatter": [
           {
            "fillpattern": {
             "fillmode": "overlay",
             "size": 10,
             "solidity": 0.2
            },
            "type": "scatter"
           }
          ],
          "scatter3d": [
           {
            "line": {
             "colorbar": {
              "outlinewidth": 0,
              "ticks": ""
             }
            },
            "marker": {
             "colorbar": {
              "outlinewidth": 0,
              "ticks": ""
             }
            },
            "type": "scatter3d"
           }
          ],
          "scattercarpet": [
           {
            "marker": {
             "colorbar": {
              "outlinewidth": 0,
              "ticks": ""
             }
            },
            "type": "scattercarpet"
           }
          ],
          "scattergeo": [
           {
            "marker": {
             "colorbar": {
              "outlinewidth": 0,
              "ticks": ""
             }
            },
            "type": "scattergeo"
           }
          ],
          "scattergl": [
           {
            "marker": {
             "colorbar": {
              "outlinewidth": 0,
              "ticks": ""
             }
            },
            "type": "scattergl"
           }
          ],
          "scattermapbox": [
           {
            "marker": {
             "colorbar": {
              "outlinewidth": 0,
              "ticks": ""
             }
            },
            "type": "scattermapbox"
           }
          ],
          "scatterpolar": [
           {
            "marker": {
             "colorbar": {
              "outlinewidth": 0,
              "ticks": ""
             }
            },
            "type": "scatterpolar"
           }
          ],
          "scatterpolargl": [
           {
            "marker": {
             "colorbar": {
              "outlinewidth": 0,
              "ticks": ""
             }
            },
            "type": "scatterpolargl"
           }
          ],
          "scatterternary": [
           {
            "marker": {
             "colorbar": {
              "outlinewidth": 0,
              "ticks": ""
             }
            },
            "type": "scatterternary"
           }
          ],
          "surface": [
           {
            "colorbar": {
             "outlinewidth": 0,
             "ticks": ""
            },
            "colorscale": [
             [
              0,
              "#0d0887"
             ],
             [
              0.1111111111111111,
              "#46039f"
             ],
             [
              0.2222222222222222,
              "#7201a8"
             ],
             [
              0.3333333333333333,
              "#9c179e"
             ],
             [
              0.4444444444444444,
              "#bd3786"
             ],
             [
              0.5555555555555556,
              "#d8576b"
             ],
             [
              0.6666666666666666,
              "#ed7953"
             ],
             [
              0.7777777777777778,
              "#fb9f3a"
             ],
             [
              0.8888888888888888,
              "#fdca26"
             ],
             [
              1,
              "#f0f921"
             ]
            ],
            "type": "surface"
           }
          ],
          "table": [
           {
            "cells": {
             "fill": {
              "color": "#EBF0F8"
             },
             "line": {
              "color": "white"
             }
            },
            "header": {
             "fill": {
              "color": "#C8D4E3"
             },
             "line": {
              "color": "white"
             }
            },
            "type": "table"
           }
          ]
         },
         "layout": {
          "annotationdefaults": {
           "arrowcolor": "#2a3f5f",
           "arrowhead": 0,
           "arrowwidth": 1
          },
          "autotypenumbers": "strict",
          "coloraxis": {
           "colorbar": {
            "outlinewidth": 0,
            "ticks": ""
           }
          },
          "colorscale": {
           "diverging": [
            [
             0,
             "#8e0152"
            ],
            [
             0.1,
             "#c51b7d"
            ],
            [
             0.2,
             "#de77ae"
            ],
            [
             0.3,
             "#f1b6da"
            ],
            [
             0.4,
             "#fde0ef"
            ],
            [
             0.5,
             "#f7f7f7"
            ],
            [
             0.6,
             "#e6f5d0"
            ],
            [
             0.7,
             "#b8e186"
            ],
            [
             0.8,
             "#7fbc41"
            ],
            [
             0.9,
             "#4d9221"
            ],
            [
             1,
             "#276419"
            ]
           ],
           "sequential": [
            [
             0,
             "#0d0887"
            ],
            [
             0.1111111111111111,
             "#46039f"
            ],
            [
             0.2222222222222222,
             "#7201a8"
            ],
            [
             0.3333333333333333,
             "#9c179e"
            ],
            [
             0.4444444444444444,
             "#bd3786"
            ],
            [
             0.5555555555555556,
             "#d8576b"
            ],
            [
             0.6666666666666666,
             "#ed7953"
            ],
            [
             0.7777777777777778,
             "#fb9f3a"
            ],
            [
             0.8888888888888888,
             "#fdca26"
            ],
            [
             1,
             "#f0f921"
            ]
           ],
           "sequentialminus": [
            [
             0,
             "#0d0887"
            ],
            [
             0.1111111111111111,
             "#46039f"
            ],
            [
             0.2222222222222222,
             "#7201a8"
            ],
            [
             0.3333333333333333,
             "#9c179e"
            ],
            [
             0.4444444444444444,
             "#bd3786"
            ],
            [
             0.5555555555555556,
             "#d8576b"
            ],
            [
             0.6666666666666666,
             "#ed7953"
            ],
            [
             0.7777777777777778,
             "#fb9f3a"
            ],
            [
             0.8888888888888888,
             "#fdca26"
            ],
            [
             1,
             "#f0f921"
            ]
           ]
          },
          "colorway": [
           "#636efa",
           "#EF553B",
           "#00cc96",
           "#ab63fa",
           "#FFA15A",
           "#19d3f3",
           "#FF6692",
           "#B6E880",
           "#FF97FF",
           "#FECB52"
          ],
          "font": {
           "color": "#2a3f5f"
          },
          "geo": {
           "bgcolor": "white",
           "lakecolor": "white",
           "landcolor": "white",
           "showlakes": true,
           "showland": true,
           "subunitcolor": "#C8D4E3"
          },
          "hoverlabel": {
           "align": "left"
          },
          "hovermode": "closest",
          "mapbox": {
           "style": "light"
          },
          "paper_bgcolor": "white",
          "plot_bgcolor": "white",
          "polar": {
           "angularaxis": {
            "gridcolor": "#EBF0F8",
            "linecolor": "#EBF0F8",
            "ticks": ""
           },
           "bgcolor": "white",
           "radialaxis": {
            "gridcolor": "#EBF0F8",
            "linecolor": "#EBF0F8",
            "ticks": ""
           }
          },
          "scene": {
           "xaxis": {
            "backgroundcolor": "white",
            "gridcolor": "#DFE8F3",
            "gridwidth": 2,
            "linecolor": "#EBF0F8",
            "showbackground": true,
            "ticks": "",
            "zerolinecolor": "#EBF0F8"
           },
           "yaxis": {
            "backgroundcolor": "white",
            "gridcolor": "#DFE8F3",
            "gridwidth": 2,
            "linecolor": "#EBF0F8",
            "showbackground": true,
            "ticks": "",
            "zerolinecolor": "#EBF0F8"
           },
           "zaxis": {
            "backgroundcolor": "white",
            "gridcolor": "#DFE8F3",
            "gridwidth": 2,
            "linecolor": "#EBF0F8",
            "showbackground": true,
            "ticks": "",
            "zerolinecolor": "#EBF0F8"
           }
          },
          "shapedefaults": {
           "line": {
            "color": "#2a3f5f"
           }
          },
          "ternary": {
           "aaxis": {
            "gridcolor": "#DFE8F3",
            "linecolor": "#A2B1C6",
            "ticks": ""
           },
           "baxis": {
            "gridcolor": "#DFE8F3",
            "linecolor": "#A2B1C6",
            "ticks": ""
           },
           "bgcolor": "white",
           "caxis": {
            "gridcolor": "#DFE8F3",
            "linecolor": "#A2B1C6",
            "ticks": ""
           }
          },
          "title": {
           "x": 0.05
          },
          "xaxis": {
           "automargin": true,
           "gridcolor": "#EBF0F8",
           "linecolor": "#EBF0F8",
           "ticks": "",
           "title": {
            "standoff": 15
           },
           "zerolinecolor": "#EBF0F8",
           "zerolinewidth": 2
          },
          "yaxis": {
           "automargin": true,
           "gridcolor": "#EBF0F8",
           "linecolor": "#EBF0F8",
           "ticks": "",
           "title": {
            "standoff": 15
           },
           "zerolinecolor": "#EBF0F8",
           "zerolinewidth": 2
          }
         }
        },
        "title": {
         "text": "calculando wcss"
        },
        "xaxis": {
         "anchor": "y",
         "domain": [
          0,
          1
         ],
         "title": {
          "text": "numero de clusters"
         }
        },
        "yaxis": {
         "anchor": "x",
         "domain": [
          0,
          1
         ],
         "title": {
          "text": "valor do wcss"
         }
        }
       }
      }
     },
     "metadata": {},
     "output_type": "display_data"
    }
   ],
   "source": [
    "grafico_wcss = px.line(x= range(1,11),y= wcss_clientes)\n",
    "fig = (\n",
    "    go\n",
    "    .Figure(grafico_wcss)\n",
    "    .update_layout(\n",
    "        title= 'calculando wcss',\n",
    "        xaxis_title= 'numero de clusters',\n",
    "        yaxis_title= 'valor do wcss',\n",
    "        template= 'plotly_white'\n",
    "\n",
    "    )\n",
    ")\n",
    "\n",
    "fig.show()"
   ]
  },
  {
   "cell_type": "markdown",
   "metadata": {},
   "source": [
    "parei em 6:20"
   ]
  },
  {
   "cell_type": "code",
   "execution_count": 46,
   "metadata": {},
   "outputs": [
    {
     "data": {
      "text/plain": [
       "168.73"
      ]
     },
     "execution_count": 46,
     "metadata": {},
     "output_type": "execute_result"
    }
   ],
   "source": []
  }
 ],
 "metadata": {
  "kernelspec": {
   "display_name": "base",
   "language": "python",
   "name": "python3"
  },
  "language_info": {
   "codemirror_mode": {
    "name": "ipython",
    "version": 3
   },
   "file_extension": ".py",
   "mimetype": "text/x-python",
   "name": "python",
   "nbconvert_exporter": "python",
   "pygments_lexer": "ipython3",
   "version": "3.10.12"
  },
  "orig_nbformat": 4
 },
 "nbformat": 4,
 "nbformat_minor": 2
}
